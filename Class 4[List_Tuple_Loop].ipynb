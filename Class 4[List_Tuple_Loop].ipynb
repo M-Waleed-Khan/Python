{
 "cells": [
  {
   "cell_type": "code",
   "execution_count": 4,
   "metadata": {},
   "outputs": [
    {
     "name": "stdout",
     "output_type": "stream",
     "text": [
      "['A', 'B', 'C', 'D']\n",
      "['A', 'B', 'C']\n",
      "['D']\n",
      "['A', 'B']\n",
      "['D', 'C']\n"
     ]
    }
   ],
   "source": [
    "#RETURN FUCNTION KI VALUE KO KISI VARIABLE MN ASSIGN KAR SKTY HN\n",
    "li = []\n",
    "names = ['A','B','C','D']\n",
    "print(names)\n",
    "a = names.pop()\n",
    "li.append(a)\n",
    "print(names)\n",
    "print(li)\n",
    "\n",
    "a = names.pop()\n",
    "li.append(a)\n",
    "print(names)\n",
    "print(li)\n"
   ]
  },
  {
   "cell_type": "code",
   "execution_count": 5,
   "metadata": {},
   "outputs": [
    {
     "name": "stdout",
     "output_type": "stream",
     "text": [
      "['A', 'B', 'B', 'C', 'D']\n",
      "['A', 'B', 'C', 'D']\n"
     ]
    }
   ],
   "source": [
    "#RETURN FUCNTION KI VALUE KO KISI VARIABLE MN ASSIGN KAR SKTY HN\n",
    "li = []\n",
    "names = ['A','B',\"B\",'C','D']\n",
    "print(names)\n",
    "a = names.pop(2)\n",
    "\n",
    "print(names)\n"
   ]
  },
  {
   "cell_type": "code",
   "execution_count": 14,
   "metadata": {},
   "outputs": [
    {
     "name": "stdout",
     "output_type": "stream",
     "text": [
      "['A', 'B', 'B', 'C', 'C', 'D']\n",
      "1\n",
      "['A', 'B', 'C', 'C', 'D']\n",
      "['A', 'B', 'C', 'D']\n"
     ]
    }
   ],
   "source": [
    "#RETURN FUCNTION KI VALUE KO KISI VARIABLE MN ASSIGN KAR SKTY HN\n",
    "li = []\n",
    "names = ['A','B','B','C','C','D']\n",
    "print(names)\n",
    "print(names.index('B'))\n",
    "index = names.index('B')\n",
    "a = names.pop(index)\n",
    "\n",
    "print(names)\n",
    "#OR SIMPLY DO THIS BY\n",
    "a = names.remove('C')\n",
    "print(names)"
   ]
  },
  {
   "cell_type": "code",
   "execution_count": 39,
   "metadata": {},
   "outputs": [
    {
     "name": "stdout",
     "output_type": "stream",
     "text": [
      "2\n",
      "['A', 'B', 'B', 'C', 'C', 'D', 'z', 'y', 'x', 'c']\n",
      "['A', 'l', 'B', 'B', 'C', 'C', 'D', 'z', 'y', 'x', 'c']\n",
      "['c', 'x', 'y', 'z', 'D', 'C', 'C', 'B', 'B', 'l', 'A']\n",
      "['A', 'B', 'B', 'C', 'C', 'D', 'c', 'l', 'x', 'y', 'z']\n",
      "['z', 'y', 'x', 'l', 'c', 'D', 'C', 'C', 'B', 'B', 'A']\n",
      "[]\n"
     ]
    }
   ],
   "source": [
    "names = ['A','B','B','C','C','D','z','y','x']\n",
    "names.copy()\n",
    "print(names.count(\"B\"))\n",
    "names.extend('c')\n",
    "print(names)\n",
    "names.insert(1,'l')\n",
    "print(names)\n",
    "names.reverse()\n",
    "print(names)\n",
    "names.sort()\n",
    "print(names)\n",
    "names.sort(reverse=True)\n",
    "print(names)\n",
    "names.clear()\n",
    "print(names)"
   ]
  },
  {
   "cell_type": "code",
   "execution_count": 47,
   "metadata": {},
   "outputs": [
    {
     "name": "stdout",
     "output_type": "stream",
     "text": [
      "True\n"
     ]
    },
    {
     "data": {
      "text/plain": [
       "True"
      ]
     },
     "execution_count": 47,
     "metadata": {},
     "output_type": "execute_result"
    }
   ],
   "source": [
    "names = ['A','B','B','C','C','D','z','y','x']\n",
    "print('C' in names)\n",
    "names.__contains__('D')"
   ]
  },
  {
   "cell_type": "code",
   "execution_count": 50,
   "metadata": {},
   "outputs": [
    {
     "name": "stdout",
     "output_type": "stream",
     "text": [
      "['A', 'B', 'C', 'C', 'D', 'z', 'y', 'x']\n"
     ]
    }
   ],
   "source": [
    "names = ['A','B','B','C','C','D','z','y','x']\n",
    "names.__delitem__(1)\n",
    "print(names)"
   ]
  },
  {
   "cell_type": "code",
   "execution_count": 56,
   "metadata": {},
   "outputs": [
    {
     "name": "stdout",
     "output_type": "stream",
     "text": [
      "False\n",
      "False\n"
     ]
    }
   ],
   "source": [
    "names = ['A','B','B','C','C','D','z','y','x']\n",
    "names1 = ['A','B','B','C','C','D','z','y','D']\n",
    "names2 = ['x','A','B','B','C','C','D','z','y']\n",
    "print(names.__eq__(names1))\n",
    "print(names.__eq__(names2))"
   ]
  },
  {
   "cell_type": "markdown",
   "metadata": {},
   "source": [
    "# TUPLES"
   ]
  },
  {
   "cell_type": "code",
   "execution_count": 58,
   "metadata": {},
   "outputs": [
    {
     "name": "stdout",
     "output_type": "stream",
     "text": [
      "['new', 'b', 'c']\n"
     ]
    },
    {
     "ename": "TypeError",
     "evalue": "'tuple' object does not support item assignment",
     "output_type": "error",
     "traceback": [
      "\u001b[1;31m---------------------------------------------------------------------------\u001b[0m",
      "\u001b[1;31mTypeError\u001b[0m                                 Traceback (most recent call last)",
      "\u001b[1;32m<ipython-input-58-906d2a4412f9>\u001b[0m in \u001b[0;36m<module>\u001b[1;34m\u001b[0m\n\u001b[0;32m      4\u001b[0m \u001b[1;31m#THIS CAN NOT BE DONE IN TUPLE BECAUSE TUPLE VALUES CAN NOT BHE UPDATED\u001b[0m\u001b[1;33m\u001b[0m\u001b[1;33m\u001b[0m\u001b[1;33m\u001b[0m\u001b[0m\n\u001b[0;32m      5\u001b[0m \u001b[0mtupple\u001b[0m \u001b[1;33m=\u001b[0m \u001b[1;33m(\u001b[0m\u001b[1;34m'a'\u001b[0m\u001b[1;33m,\u001b[0m\u001b[1;34m'b'\u001b[0m\u001b[1;33m,\u001b[0m\u001b[1;34m'c'\u001b[0m\u001b[1;33m)\u001b[0m\u001b[1;33m\u001b[0m\u001b[1;33m\u001b[0m\u001b[0m\n\u001b[1;32m----> 6\u001b[1;33m \u001b[0mtupple\u001b[0m\u001b[1;33m[\u001b[0m\u001b[1;36m0\u001b[0m\u001b[1;33m]\u001b[0m \u001b[1;33m=\u001b[0m \u001b[1;34m'new'\u001b[0m\u001b[1;33m\u001b[0m\u001b[1;33m\u001b[0m\u001b[0m\n\u001b[0m\u001b[0;32m      7\u001b[0m \u001b[0mprint\u001b[0m\u001b[1;33m(\u001b[0m\u001b[0mtupples\u001b[0m\u001b[1;33m)\u001b[0m\u001b[1;33m\u001b[0m\u001b[1;33m\u001b[0m\u001b[0m\n",
      "\u001b[1;31mTypeError\u001b[0m: 'tuple' object does not support item assignment"
     ]
    }
   ],
   "source": [
    "li = ['a','b','c']\n",
    "li[0] = \"new\"\n",
    "print(li)\n",
    "#THIS CAN NOT BE DONE IN TUPLE BECAUSE TUPLE VALUES CAN NOT BHE UPDATED\n",
    "tupple = ('a','b','c')\n",
    "tupple[0] = 'new'\n",
    "print(tupples)"
   ]
  },
  {
   "cell_type": "code",
   "execution_count": 62,
   "metadata": {},
   "outputs": [
    {
     "name": "stdout",
     "output_type": "stream",
     "text": [
      "pakistan 1\n",
      "pakistan 2\n",
      "pakistan 3\n",
      "pakistan 4\n",
      "pakistan 5\n",
      "pakistan 6\n",
      "pakistan 7\n",
      "pakistan 8\n",
      "pakistan 9\n",
      "pakistan 10\n"
     ]
    }
   ],
   "source": [
    "counter = 1             #COUNTER\n",
    "while counter <= 10:    #LOGIC\n",
    "    print(\"pakistan\",counter)\n",
    "    counter +=1         #INCREMENTER"
   ]
  },
  {
   "cell_type": "code",
   "execution_count": 63,
   "metadata": {},
   "outputs": [
    {
     "name": "stdout",
     "output_type": "stream",
     "text": [
      "pakistan 1000\n",
      "pakistan 999\n",
      "pakistan 998\n",
      "pakistan 997\n",
      "pakistan 996\n",
      "pakistan 995\n",
      "pakistan 994\n",
      "pakistan 993\n",
      "pakistan 992\n",
      "pakistan 991\n",
      "pakistan 990\n"
     ]
    }
   ],
   "source": [
    "counter = 1000             #COUNTER\n",
    "while counter >= 990:    #LOGIC\n",
    "    print(\"pakistan\",counter)\n",
    "    counter -=1         #INCREMENTER"
   ]
  },
  {
   "cell_type": "code",
   "execution_count": 64,
   "metadata": {},
   "outputs": [
    {
     "data": {
      "text/plain": [
       "[1, 2, 3, 4, 5, 6, 7, 8, 9]"
      ]
     },
     "execution_count": 64,
     "metadata": {},
     "output_type": "execute_result"
    }
   ],
   "source": [
    "list(range(1,10))"
   ]
  },
  {
   "cell_type": "code",
   "execution_count": 68,
   "metadata": {},
   "outputs": [
    {
     "name": "stdout",
     "output_type": "stream",
     "text": [
      "Pakistan1\n",
      "Pakistan2\n",
      "Pakistan3\n",
      "Pakistan4\n",
      "Pakistan5\n",
      "Pakistan6\n",
      "Pakistan7\n",
      "Pakistan8\n",
      "Pakistan9\n",
      "Pakistan10\n"
     ]
    }
   ],
   "source": [
    "for i in range(1,11):\n",
    "    print('Pakistan'+str(i))"
   ]
  },
  {
   "cell_type": "code",
   "execution_count": 77,
   "metadata": {},
   "outputs": [
    {
     "data": {
      "text/plain": [
       "['PAKISTAN1',\n",
       " 'PAKISTAN2',\n",
       " 'PAKISTAN3',\n",
       " 'PAKISTAN4',\n",
       " 'PAKISTAN5',\n",
       " 'PAKISTAN6',\n",
       " 'PAKISTAN7',\n",
       " 'PAKISTAN8',\n",
       " 'PAKISTAN9',\n",
       " 'PAKISTAN10']"
      ]
     },
     "execution_count": 77,
     "metadata": {},
     "output_type": "execute_result"
    }
   ],
   "source": [
    "[\"PAKISTAN\"+str(i) for i in range(1,11)]"
   ]
  },
  {
   "cell_type": "code",
   "execution_count": 78,
   "metadata": {},
   "outputs": [
    {
     "name": "stdout",
     "output_type": "stream",
     "text": [
      "2\n",
      "4\n",
      "6\n",
      "8\n",
      "10\n",
      "12\n",
      "14\n",
      "16\n",
      "18\n",
      "20\n"
     ]
    }
   ],
   "source": [
    "for i in range(1,11):\n",
    "    print(2*i)"
   ]
  },
  {
   "cell_type": "code",
   "execution_count": 80,
   "metadata": {},
   "outputs": [
    {
     "name": "stdout",
     "output_type": "stream",
     "text": [
      "2\n",
      "4\n",
      "6\n",
      "8\n",
      "10\n",
      "12\n",
      "14\n",
      "16\n",
      "18\n",
      "20\n"
     ]
    },
    {
     "data": {
      "text/plain": [
       "[None, None, None, None, None, None, None, None, None, None]"
      ]
     },
     "execution_count": 80,
     "metadata": {},
     "output_type": "execute_result"
    }
   ],
   "source": [
    "[print (2*i) for i in range(1,11)]"
   ]
  },
  {
   "cell_type": "code",
   "execution_count": 81,
   "metadata": {},
   "outputs": [
    {
     "name": "stdout",
     "output_type": "stream",
     "text": [
      "2 X 1=2\n",
      "2 X 2=4\n",
      "2 X 3=6\n",
      "2 X 4=8\n",
      "2 X 5=10\n",
      "2 X 6=12\n",
      "2 X 7=14\n",
      "2 X 8=16\n",
      "2 X 9=18\n",
      "2 X 10=20\n"
     ]
    }
   ],
   "source": [
    "for i in range(1,11):\n",
    "    print(\"2 X \"+str(i)+\"=\"+str(i*2))"
   ]
  },
  {
   "cell_type": "code",
   "execution_count": 84,
   "metadata": {},
   "outputs": [
    {
     "name": "stdout",
     "output_type": "stream",
     "text": [
      "2 X 1 = 2\n",
      "2 X 2 = 4\n",
      "2 X 3 = 6\n",
      "2 X 4 = 8\n",
      "2 X 5 = 10\n",
      "2 X 6 = 12\n",
      "2 X 7 = 14\n",
      "2 X 8 = 16\n",
      "2 X 9 = 18\n",
      "2 X 10 = 20\n"
     ]
    }
   ],
   "source": [
    "for i in range(1,11):\n",
    "    print(f'2 X {i} = {i*2}')"
   ]
  },
  {
   "cell_type": "code",
   "execution_count": null,
   "metadata": {},
   "outputs": [],
   "source": [
    "input(\"Number:\")\n",
    "for i in range(1,number):\n",
    "    for n in range(1,11):\n",
    "        print(i*n)"
   ]
  },
  {
   "cell_type": "code",
   "execution_count": 30,
   "metadata": {},
   "outputs": [
    {
     "name": "stdout",
     "output_type": "stream",
     "text": [
      "Number : 3\n",
      "1 X 1 = 1\t2 X 1 = 2\t3 X 1 = 3\t\n",
      "1 X 2 = 2\t2 X 2 = 4\t3 X 2 = 6\t\n",
      "1 X 3 = 3\t2 X 3 = 6\t3 X 3 = 9\t\n",
      "1 X 4 = 4\t2 X 4 = 8\t3 X 4 = 12\t\n",
      "1 X 5 = 5\t2 X 5 = 10\t3 X 5 = 15\t\n",
      "1 X 6 = 6\t2 X 6 = 12\t3 X 6 = 18\t\n",
      "1 X 7 = 7\t2 X 7 = 14\t3 X 7 = 21\t\n",
      "1 X 8 = 8\t2 X 8 = 16\t3 X 8 = 24\t\n",
      "1 X 9 = 9\t2 X 9 = 18\t3 X 9 = 27\t\n",
      "1 X 10 = 10\t2 X 10 = 20\t3 X 10 = 30\t\n"
     ]
    }
   ],
   "source": [
    "number = int(input(\"Number : \"))\n",
    "for i in range(1,11 ):\n",
    "    for n in range(1,number + 1):\n",
    "        print(f'{n} X {i} = {n * i}', end='\\t')\n",
    "    print()"
   ]
  },
  {
   "cell_type": "code",
   "execution_count": null,
   "metadata": {},
   "outputs": [],
   "source": []
  }
 ],
 "metadata": {
  "kernelspec": {
   "display_name": "Python 3",
   "language": "python",
   "name": "python3"
  },
  "language_info": {
   "codemirror_mode": {
    "name": "ipython",
    "version": 3
   },
   "file_extension": ".py",
   "mimetype": "text/x-python",
   "name": "python",
   "nbconvert_exporter": "python",
   "pygments_lexer": "ipython3",
   "version": "3.7.4"
  }
 },
 "nbformat": 4,
 "nbformat_minor": 2
}
