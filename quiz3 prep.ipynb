{
 "cells": [
  {
   "cell_type": "code",
   "execution_count": 9,
   "metadata": {},
   "outputs": [
    {
     "name": "stdout",
     "output_type": "stream",
     "text": [
      "manu\n",
      "1-0\n",
      "overtime: yes\n",
      "injuries: none\n"
     ]
    }
   ],
   "source": [
    "def display_result(winner, score, **other_info):\n",
    "    print(winner)\n",
    "    print(score)\n",
    "    for key, value in other_info.items():\n",
    "        print(key + \": \" + value)\n",
    "winner=\"manu\"\n",
    "display_result(winner,\"1-0\",overtime=\"yes\",injuries=\"none\")"
   ]
  },
  {
   "cell_type": "code",
   "execution_count": 52,
   "metadata": {},
   "outputs": [
    {
     "name": "stdout",
     "output_type": "stream",
     "text": [
      "waleed\n",
      "x\n",
      "('y', 13)\n"
     ]
    }
   ],
   "source": [
    "def display_result(winner,score,*other_info):\n",
    "        print(winner)\n",
    "        print(score)\n",
    "        print(other_info)\n",
    "score=\"x\"\n",
    "score1=\"y\"\n",
    "score2=13\n",
    "display_result(\"waleed\",score,score1,score2)"
   ]
  },
  {
   "cell_type": "code",
   "execution_count": 22,
   "metadata": {},
   "outputs": [
    {
     "name": "stdout",
     "output_type": "stream",
     "text": [
      "3\n"
     ]
    }
   ],
   "source": [
    "def cal_sum(x,y):\n",
    "    return(x+y)\n",
    "total= cal_sum(1,2)\n",
    "print(total)"
   ]
  },
  {
   "cell_type": "code",
   "execution_count": 29,
   "metadata": {},
   "outputs": [
    {
     "name": "stdout",
     "output_type": "stream",
     "text": [
      "5\n"
     ]
    }
   ],
   "source": [
    "def cal_sum(x,y):\n",
    "    total= x + y\n",
    "    return(total)\n",
    "total= cal_sum(3,2)\n",
    "print(total)"
   ]
  },
  {
   "cell_type": "code",
   "execution_count": 30,
   "metadata": {},
   "outputs": [
    {
     "name": "stdout",
     "output_type": "stream",
     "text": [
      "8\n"
     ]
    }
   ],
   "source": [
    "def cal_sum(x,y):\n",
    "    total= x + y\n",
    "    return(total)\n",
    "print(cal_sum(3,5))"
   ]
  },
  {
   "cell_type": "code",
   "execution_count": 31,
   "metadata": {},
   "outputs": [
    {
     "name": "stdout",
     "output_type": "stream",
     "text": [
      "10\n"
     ]
    }
   ],
   "source": [
    "def cal_sum(x,y):\n",
    "    total= x + y\n",
    "    return(total)\n",
    "def cal_sub(x,y):\n",
    "    total = x - y\n",
    "    return(total)\n",
    "result_sum= cal_sum(3,2)\n",
    "result_sub= cal_sub(10,5)\n",
    "total = result_sum + result_sub\n",
    "print(total)"
   ]
  },
  {
   "cell_type": "code",
   "execution_count": 38,
   "metadata": {},
   "outputs": [
    {
     "name": "stdout",
     "output_type": "stream",
     "text": [
      "17\n"
     ]
    }
   ],
   "source": [
    "def cal_sum(x,y):\n",
    "    total_sum= x + y\n",
    "    return(total_sum)\n",
    "def cal_sub(x,y):\n",
    "    total_sub = x - y\n",
    "    return(total_sub)\n",
    "total = cal_sum(10,2) + cal_sub(10,5)\n",
    "print(total)"
   ]
  },
  {
   "cell_type": "code",
   "execution_count": 39,
   "metadata": {},
   "outputs": [
    {
     "name": "stdout",
     "output_type": "stream",
     "text": [
      "10\n"
     ]
    }
   ],
   "source": [
    "def cal_sum(x,y):\n",
    "    total= x + y\n",
    "    return(total)\n",
    "def cal_sub(x,y):\n",
    "    total = x - y\n",
    "    return(total)\n",
    "total = result_sum + result_sub\n",
    "print(total)"
   ]
  },
  {
   "cell_type": "code",
   "execution_count": 44,
   "metadata": {},
   "outputs": [
    {
     "name": "stdout",
     "output_type": "stream",
     "text": [
      "true\n"
     ]
    }
   ],
   "source": [
    "if 1 == 1:\n",
    "    print(\"true\")"
   ]
  },
  {
   "cell_type": "code",
   "execution_count": 47,
   "metadata": {},
   "outputs": [
    {
     "name": "stdout",
     "output_type": "stream",
     "text": [
      "last name: Verdi\n",
      "first name: Giuseppe\n",
      "profession: composer\n"
     ]
    }
   ],
   "source": [
    "particulars = {\n",
    "  \"last name\": \"Verdi\",\n",
    "  \"first name\": \"Giuseppe\",\n",
    "  \"profession\": \"composer\",\n",
    "}\n",
    "def look(dictionary):\n",
    "    for key, value in dictionary.items():\n",
    "        print(key + \": \" + value)\n",
    "look(particulars)\n"
   ]
  },
  {
   "cell_type": "code",
   "execution_count": 48,
   "metadata": {},
   "outputs": [
    {
     "name": "stdout",
     "output_type": "stream",
     "text": [
      "same\n"
     ]
    }
   ],
   "source": [
    "def check_val(val1, val2):\n",
    "  if(val1 == val2):\n",
    "    print(\"same\")\n",
    "check_val(1,1)"
   ]
  },
  {
   "cell_type": "code",
   "execution_count": 59,
   "metadata": {},
   "outputs": [
    {
     "name": "stdout",
     "output_type": "stream",
     "text": [
      "{'last name': 'Verdi', 'first name': 'Giuseppe', 'profession': 'composer', 'waleed': ['good']}\n"
     ]
    }
   ],
   "source": [
    "\n",
    "particularss = {\n",
    "  \"last name\": \"Verdi\",\n",
    "  \"first name\": \"Giuseppe\",\n",
    "  \"profession\": \"composer\",\n",
    "}\n",
    "def three_param(diction,key,value):\n",
    "  diction[key]=[value]\n",
    "three_param(particularss,\"waleed\",\"good\")\n",
    "print(particularss)"
   ]
  },
  {
   "cell_type": "code",
   "execution_count": 60,
   "metadata": {},
   "outputs": [
    {
     "name": "stdout",
     "output_type": "stream",
     "text": [
      "enter colora\n"
     ]
    }
   ],
   "source": [
    "color = input(\"enter color\")"
   ]
  },
  {
   "cell_type": "code",
   "execution_count": 70,
   "metadata": {},
   "outputs": [
    {
     "name": "stdout",
     "output_type": "stream",
     "text": [
      "enter your colorred\n",
      "debug\n",
      "color found\n"
     ]
    }
   ],
   "source": [
    "# Code the function here, but do it last.\n",
    "def check_color(color,primary_colors):\n",
    "    print(\"debug\")\n",
    "    for x in primary_colors:\n",
    "        if(color == x):\n",
    "            print(\"color found\")\n",
    "            break\n",
    "\n",
    "\n",
    "\n",
    "\n",
    "# Do this first.\n",
    "# Ask the user to enter a color. Assign it to a variable.\n",
    "color = input(\"enter your color\")\n",
    "# Here's the tuple:\n",
    "primary_colors = (\"yellow\", \"red\", \"blue\")\n",
    "# Do this second.\n",
    "# Call the function, passing the tuple name\n",
    "# and the variable containing the user's color choice.\n",
    "\n",
    "check_color(color,primary_colors)"
   ]
  },
  {
   "cell_type": "code",
   "execution_count": 75,
   "metadata": {},
   "outputs": [
    {
     "name": "stdout",
     "output_type": "stream",
     "text": [
      "Punya\n"
     ]
    }
   ],
   "source": [
    "# First code the function call on line 12.\n",
    "# Then come back and code the function starting on line 4.\n",
    "# The function will take two or three lines, depending on how you approach it.\n",
    "def m_choice(dic,li,ind):\n",
    "    target = (dic[li][ind])\n",
    "    print(target)\n",
    "\n",
    "particulars = {\n",
    "  \"adults\":[\"Ditmar\", \"Salvador\", \"piya\"],\n",
    "  \"children0\":[\"caliban\", \"eustic\", \"ali\"],\n",
    "}\n",
    "    \n",
    "    \n",
    "    \n",
    "\n",
    "\n",
    "\n",
    "members = {\n",
    "  \"adults\": [\"Ditmar\", \"Salvador\", \"Punya\"],\n",
    "  \"children\": [\"Caliban\", \"Eustis\", \"Ali\"],\n",
    "}\n",
    "# First code the function call on line 12\n",
    "m_choice(li=\"adults\", dic=members,ind= 2)"
   ]
  },
  {
   "cell_type": "code",
   "execution_count": 76,
   "metadata": {},
   "outputs": [
    {
     "name": "stdout",
     "output_type": "stream",
     "text": [
      "waleed\n"
     ]
    }
   ],
   "source": [
    "def x(name=\"waleed\"):\n",
    "    print(name)\n",
    "x()"
   ]
  },
  {
   "cell_type": "code",
   "execution_count": 77,
   "metadata": {},
   "outputs": [
    {
     "data": {
      "text/plain": [
       "2"
      ]
     },
     "execution_count": 77,
     "metadata": {},
     "output_type": "execute_result"
    }
   ],
   "source": [
    "def trivial(value = 2):\n",
    "  return value\n",
    "trivial()"
   ]
  },
  {
   "cell_type": "code",
   "execution_count": 79,
   "metadata": {},
   "outputs": [
    {
     "name": "stdout",
     "output_type": "stream",
     "text": [
      "1\n",
      "2\n"
     ]
    }
   ],
   "source": [
    "y = 2\n",
    "def x():\n",
    "    y = 1\n",
    "    print(y)\n",
    "x()\n",
    "print(y)"
   ]
  },
  {
   "cell_type": "code",
   "execution_count": 88,
   "metadata": {},
   "outputs": [
    {
     "name": "stdout",
     "output_type": "stream",
     "text": [
      "2\n"
     ]
    }
   ],
   "source": [
    "def a():\n",
    "    b = 2\n",
    "    return b\n",
    "a = a()\n",
    "print(a)"
   ]
  },
  {
   "cell_type": "code",
   "execution_count": 92,
   "metadata": {},
   "outputs": [
    {
     "name": "stdout",
     "output_type": "stream",
     "text": [
      "waasd\n"
     ]
    }
   ],
   "source": [
    "def x():\n",
    "    y = \"wa\" + \"asd\"\n",
    "    print(y)\n",
    "def a():\n",
    "   # z = combine(\"wa\", \"asd\")\n",
    "    print(z)\n",
    "x()"
   ]
  },
  {
   "cell_type": "code",
   "execution_count": null,
   "metadata": {},
   "outputs": [],
   "source": [
    "def calc(**numbers):\n",
    "    for a_number in numbers.values():\n",
    "        print(a_number)\n",
    "def calq(x = 1, y = 2):\n",
    "    calc(calq())\n",
    "calq()\n",
    "calc()"
   ]
  },
  {
   "cell_type": "code",
   "execution_count": 118,
   "metadata": {},
   "outputs": [
    {
     "name": "stdout",
     "output_type": "stream",
     "text": [
      "['empty', 'empty', 'empty']\n"
     ]
    }
   ],
   "source": [
    "li_f = []\n",
    "li_s = [1, 2 , 3]\n",
    "def function_a(li_f, li_s):\n",
    "    while len(li_f) < len(li_s):\n",
    "        li_f.append(\"empty\")\n",
    "function_a(li_f, li_s)\n",
    "print(li_f)"
   ]
  },
  {
   "cell_type": "code",
   "execution_count": 123,
   "metadata": {},
   "outputs": [],
   "source": [
    "#Code a while loop. As long as x is less than or equal to 10, display x then add 2 to it."
   ]
  },
  {
   "cell_type": "code",
   "execution_count": 122,
   "metadata": {},
   "outputs": [
    {
     "name": "stdout",
     "output_type": "stream",
     "text": [
      "0\n",
      "2\n",
      "4\n",
      "6\n",
      "8\n",
      "10\n"
     ]
    }
   ],
   "source": [
    "x = 0\n",
    "while x <= 10:\n",
    "    print(x)\n",
    "    x += 2"
   ]
  },
  {
   "cell_type": "code",
   "execution_count": 35,
   "metadata": {},
   "outputs": [
    {
     "name": "stdout",
     "output_type": "stream",
     "text": [
      "hello world\n",
      "hello world\n",
      " this is neew line\n"
     ]
    }
   ],
   "source": [
    "with open(\"quiz3Prep.txt\", \"w\") as f:\n",
    "    f.write(\"hello world\")\n",
    "with open(\"quiz3Prep.txt\", \"r\") as f:\n",
    "    prepData = f.read()\n",
    "print(prepData)\n",
    "with open(\"quiz3Prep.txt\", \"a\") as f:\n",
    "    f.write(\"\\n this is neew line\")\n",
    "with open(\"quiz3Prep.txt\") as f:\n",
    "    prepData = f.read()\n",
    "print(prepData)\n",
    "        "
   ]
  },
  {
   "cell_type": "code",
   "execution_count": 4,
   "metadata": {},
   "outputs": [
    {
     "name": "stdout",
     "output_type": "stream",
     "text": [
      "['Potion', 'Effect', 'Telltale Property', 'Amortentia', 'Love', 'Steam', 'Confusing Concoction', 'Confusion', 'Nausea', 'Draught of Living Death', 'Sleep', 'Turns leaf to ashes', 'Draught of Peace', 'Comfort', 'None', 'Felix Felicis', 'Luck', 'Giddiness', 'Hiccoughing Potion', 'Stops hiccoughs', 'None', 'Pepperup Potion', 'Health', 'Steaming Ears', 'Polyjuice Potion', 'Shape shifting', 'Voice change', 'Skele-Gro', 'Bone growth', 'Disgusting taste', \"Sleekeazy's Hair Potion\", 'Hair straightener', 'None', 'Veritaserum', 'Truth-telling', 'None']\n"
     ]
    }
   ],
   "source": [
    "import csv\n",
    "with open(\"potions.csv\" , \"r\" , newline = \"\") as f:\n",
    "    data_handler = csv.reader(f)\n",
    "    new_list = []\n",
    "    for values in data_handler:\n",
    "        new_list += values\n",
    "print(new_list)"
   ]
  },
  {
   "cell_type": "code",
   "execution_count": 5,
   "metadata": {},
   "outputs": [
    {
     "name": "stdout",
     "output_type": "stream",
     "text": [
      "Comfort\n"
     ]
    }
   ],
   "source": [
    "import csv\n",
    "with open(\"potions.csv\" , \"r\" , newline = \"\") as f:\n",
    "    data_handler = csv.reader(f)\n",
    "    new_list = []\n",
    "    for values in data_handler:\n",
    "        new_list += values\n",
    "target_index = new_list.index(\"Draught of Peace\")\n",
    "my_index = target_index + 1\n",
    "print(new_list[my_index])"
   ]
  },
  {
   "cell_type": "code",
   "execution_count": 7,
   "metadata": {},
   "outputs": [
    {
     "name": "stdout",
     "output_type": "stream",
     "text": [
      "['Potion', 'Effect', 'Telltale Property', 'Amortentia', 'Love', 'Steam', 'Confusing Concoction', 'Confusion', 'Nausea', 'Draught of Living Death', 'Sleep', 'Turns leaf to ashes', 'Draught of Peace', 'Comfort', 'None', 'Felix Felicis', 'Luck', 'Giddiness', 'Hiccoughing Potion', 'Stops hiccoughs', 'None', 'Pepperup Potion', 'Health', 'Steaming Ears', 'Polyjuice Potion', 'Shape shifting', 'Voice change', 'Skele-Gro', 'Bone growth', 'Disgusting taste', \"Sleekeazy's Hair Potion\", 'Hair straightener', 'None', 'Veritaserum', 'Truth-telling', 'None']\n"
     ]
    }
   ],
   "source": [
    "with open(\"potions.csv\") as f:\n",
    "    data_handler = csv.reader(f,delimiter=\",\")\n",
    "    new_list = []\n",
    "    for x in data_handler:\n",
    "        new_list += x\n",
    "print(new_list)"
   ]
  },
  {
   "cell_type": "code",
   "execution_count": 8,
   "metadata": {},
   "outputs": [],
   "source": [
    "with open(\"newCsv.csv\", \"w\", newline=\"\") as f:\n",
    "    handler = csv.writer(f, delimiter=\",\")\n",
    "    handler.writerow([\"age\",\"asd\",\"asdw\"])\n",
    "    handler.writerow([\"agbse\",\"as12d\",\"asdaaw\"])\n",
    "    handler.writerow([\"agoe\",\"asjhd\",\"asdwew\"])\n"
   ]
  },
  {
   "cell_type": "code",
   "execution_count": 14,
   "metadata": {},
   "outputs": [],
   "source": [
    "with open(\"newCsv.csv\", \"a\", newline=\"\") as f:\n",
    "    data_handler = csv.writer(f, delimiter = \",\")\n",
    "    data_handler.writerow([\"asd\", \"asdqw\", \"asd2a\"])"
   ]
  },
  {
   "cell_type": "code",
   "execution_count": 15,
   "metadata": {},
   "outputs": [],
   "source": [
    "import json\n",
    "members = {\n",
    "  \"adults\": [\"Ditmar\", \"Salvador\", \"Punya\"],\n",
    "  \"children\": [\"Caliban\", \"Eustis\", \"Ali\"],\n",
    "}\n",
    "with open(\"newJsonFile.json\", \"w\") as f:\n",
    "    json.dump(members, f)"
   ]
  },
  {
   "cell_type": "code",
   "execution_count": 16,
   "metadata": {},
   "outputs": [],
   "source": [
    "bird_dict = {\n",
    "  \"crow\": \"corvid\",\n",
    "  \"robin\": \"thrush\",\n",
    "  \"owl\": \"raptor\",\n",
    "}\n",
    "with open(\"myj.json\", \"w\") as f:\n",
    "  json.dump(bird_dict, f)"
   ]
  },
  {
   "cell_type": "code",
   "execution_count": 19,
   "metadata": {},
   "outputs": [
    {
     "name": "stdout",
     "output_type": "stream",
     "text": [
      "{'crow': 'corvid', 'robin': 'thrush', 'owl': 'raptor'}\n"
     ]
    }
   ],
   "source": [
    "with open(\"asd.json\", \"w\") as f:\n",
    "  json.dump(bird_dict, f)\n",
    "with open(\"asd.json\") as f:\n",
    "  content = json.load(f)\n",
    "print(content)"
   ]
  },
  {
   "cell_type": "markdown",
   "metadata": {},
   "source": [
    "In IDLE code a Python program that asks the user to input a file name, using a while loop to give her another chance to input if there's a FileNotFoundError."
   ]
  },
  {
   "cell_type": "code",
   "execution_count": 25,
   "metadata": {},
   "outputs": [
    {
     "name": "stdout",
     "output_type": "stream",
     "text": [
      "Please enter you file namenewJsonFile.json\n",
      "{'adults': ['Ditmar', 'Salvador', 'Punya'], 'children': ['Caliban', 'Eustis', 'Ali']}\n"
     ]
    }
   ],
   "source": [
    "while True:\n",
    "    try:\n",
    "        file_name = input(\"Please enter you file name\")\n",
    "        with open(file_name) as f:\n",
    "            content = json.load(f)\n",
    "            break\n",
    "    except FileNotFoundError:\n",
    "        print(file_name+ \" \" + \"Does not exist in directory, enter correct file name\")\n",
    "print(content)"
   ]
  },
  {
   "cell_type": "code",
   "execution_count": 31,
   "metadata": {},
   "outputs": [
    {
     "name": "stdout",
     "output_type": "stream",
     "text": [
      "6\n"
     ]
    }
   ],
   "source": [
    "def funn(x = 2, y = 3):\n",
    "    print(x + y)\n",
    "funn(4, y = 2)"
   ]
  },
  {
   "cell_type": "code",
   "execution_count": 33,
   "metadata": {},
   "outputs": [
    {
     "name": "stdout",
     "output_type": "stream",
     "text": [
      "Hello, Jesse!\n"
     ]
    }
   ],
   "source": [
    "def greet_user(username):\n",
    "#Display a simple greeting.\"\"\"\n",
    "    print(\"Hello, \" + username.title() + \"!\")\n",
    "greet_user('jesse')"
   ]
  },
  {
   "cell_type": "code",
   "execution_count": 41,
   "metadata": {},
   "outputs": [
    {
     "name": "stdout",
     "output_type": "stream",
     "text": [
      "4\n"
     ]
    }
   ],
   "source": [
    "def abc(x, y):\n",
    "    return x + y\n",
    "a = abc(2 , 2)\n",
    "print(a)"
   ]
  },
  {
   "cell_type": "code",
   "execution_count": 44,
   "metadata": {},
   "outputs": [
    {
     "data": {
      "text/plain": [
       "{'first': 'waleed', 'second': 'Khan'}"
      ]
     },
     "execution_count": 44,
     "metadata": {},
     "output_type": "execute_result"
    }
   ],
   "source": [
    "def retdict(x, y):\n",
    "    myDict = {'first': x, 'second': y}\n",
    "    return myDict\n",
    "retdict(\"waleed\", \"Khan\")"
   ]
  },
  {
   "cell_type": "code",
   "execution_count": 50,
   "metadata": {},
   "outputs": [
    {
     "data": {
      "text/plain": [
       "{'first': 'waleed', 'second': 'Khan', 'third': 2}"
      ]
     },
     "execution_count": 50,
     "metadata": {},
     "output_type": "execute_result"
    }
   ],
   "source": [
    "def retdict(x, y, z=''):\n",
    "    myDict = {'first': x, 'second': y}\n",
    "    if z:\n",
    "        myDict['third'] = z\n",
    "    return myDict\n",
    "retdict(\"waleed\", \"Khan\" , z = 2)"
   ]
  },
  {
   "cell_type": "markdown",
   "metadata": {},
   "source": [
    "Write a function called city_country() that takes in the name\n",
    "of a city and its country. The function should return a string formatted like this:"
   ]
  },
  {
   "cell_type": "code",
   "execution_count": 53,
   "metadata": {},
   "outputs": [
    {
     "name": "stdout",
     "output_type": "stream",
     "text": [
      "islamabad, pakistan\n",
      "karachi, pakistan\n"
     ]
    }
   ],
   "source": [
    "def city_country(city_name, country_name):\n",
    "    string_format = city_name + \", \" + country_name\n",
    "    return string_format\n",
    "print(city_country(\"islamabad\", \"pakistan\"))\n",
    "print(city_country(\"karachi\", \"pakistan\"))"
   ]
  },
  {
   "cell_type": "markdown",
   "metadata": {},
   "source": [
    "Write a function called make_album() that builds a dictionary\n",
    "describing a music album. The function should take in an artist name and an\n",
    "album title, and it should return a dictionary containing these two pieces of\n",
    "information. Use the function to make three dictionaries representing different\n",
    "albums. Print each return value to show that the dictionaries are storing the\n",
    "album information correctly.\n",
    "\n",
    "\n",
    "Add an optional parameter to make_album() that allows you to store the\n",
    "number of tracks on an album. If the calling line includes a value for the number\n",
    "of tracks, add that value to the album’s dictionary. Make at least one new\n",
    "function call that includes the number of tracks on an album."
   ]
  },
  {
   "cell_type": "code",
   "execution_count": 54,
   "metadata": {},
   "outputs": [
    {
     "name": "stdout",
     "output_type": "stream",
     "text": [
      "{'waleed': 'Aho'}\n",
      "{'zain': 'naho'}\n",
      "{'ali': 'maho'}\n"
     ]
    }
   ],
   "source": [
    "def make_album(artist_name, album_title):\n",
    "    music_dict = {artist_name: album_title}\n",
    "    return music_dict\n",
    "print(make_album(\"waleed\", \"Aho\"))\n",
    "print(make_album(\"zain\", \"naho\"))\n",
    "print(make_album(\"ali\", \"maho\"))\n"
   ]
  },
  {
   "cell_type": "code",
   "execution_count": 57,
   "metadata": {},
   "outputs": [
    {
     "name": "stdout",
     "output_type": "stream",
     "text": [
      "{'waleed': 'Aho'}\n",
      "{'zain': 'naho'}\n",
      "{'ali': 'maho', 'number_of_tracks': 2}\n"
     ]
    }
   ],
   "source": [
    "def make_album(artist_name, album_title, tracks=0):\n",
    "    music_dict = {artist_name: album_title}\n",
    "    if tracks:\n",
    "        music_dict['number_of_tracks'] = tracks\n",
    "    return music_dict\n",
    "print(make_album(\"waleed\", \"Aho\"))\n",
    "print(make_album(\"zain\", \"naho\"))\n",
    "print(make_album(\"ali\", \"maho\", 2))\n"
   ]
  },
  {
   "cell_type": "markdown",
   "metadata": {},
   "source": [
    "Start with your program from Exercise 8-7. Write a while\n",
    "loop that allows users to enter an album’s artist and title. Once you have that\n",
    "information, call make_album() with the user’s input and print the dictionary\n",
    "that’s created. Be sure to include a quit value in the while loop."
   ]
  },
  {
   "cell_type": "code",
   "execution_count": 58,
   "metadata": {},
   "outputs": [
    {
     "name": "stdout",
     "output_type": "stream",
     "text": [
      "enter arist name or pres q to quitwaleed\n",
      "enter album title or pres q to quitaho\n",
      "{'waleed': 'aho'}\n",
      "enter arist name or pres q to quitzain\n",
      "enter album title or pres q to quitnaho\n",
      "{'zain': 'naho'}\n",
      "enter arist name or pres q to quitali\n",
      "enter album title or pres q to quitq\n"
     ]
    }
   ],
   "source": [
    "def make_album(artist_name, album_title):\n",
    "    music_dict = {artist_name: album_title}\n",
    "    return music_dict\n",
    "while True:\n",
    "    artist_name = input(\"enter arist name or pres q to quit\")\n",
    "    album_title = input(\"enter album title or pres q to quit\")\n",
    "    if artist_name == 'q' or album_title == 'q':\n",
    "        break\n",
    "    else:\n",
    "        print(make_album(artist_name,album_title))\n"
   ]
  },
  {
   "cell_type": "code",
   "execution_count": 61,
   "metadata": {},
   "outputs": [
    {
     "name": "stdout",
     "output_type": "stream",
     "text": [
      "making a piiza of size 15 with the following toppings\n",
      "-  ['kali mirch', 'boti']\n"
     ]
    }
   ],
   "source": [
    "def make_pizza(size, *toppings):\n",
    "    print(\"making a piiza of size \" + str(size) + \" with the following toppings\")\n",
    "    for topping in toppings:\n",
    "        print(\"- \", topping)\n",
    "topping_lint = ['kali mirch', 'boti']\n",
    "make_pizza(15,topping_lint)"
   ]
  },
  {
   "cell_type": "code",
   "execution_count": 62,
   "metadata": {},
   "outputs": [
    {
     "name": "stdout",
     "output_type": "stream",
     "text": [
      "making a piiza of size 15 with the following toppings\n",
      "-  kali mirch\n",
      "-  boti\n"
     ]
    }
   ],
   "source": [
    "def make_pizza(size, *toppings):\n",
    "    print(\"making a piiza of size \" + str(size) + \" with the following toppings\")\n",
    "    for topping in toppings:\n",
    "        print(\"- \", topping)\n",
    "make_pizza(15,'kali mirch', 'boti')"
   ]
  },
  {
   "cell_type": "code",
   "execution_count": 68,
   "metadata": {},
   "outputs": [
    {
     "data": {
      "text/plain": [
       "{'firstName': 'waleed', 'lastName': 'khan', 'height': 2, 'gender': 'M'}"
      ]
     },
     "execution_count": 68,
     "metadata": {},
     "output_type": "execute_result"
    }
   ],
   "source": [
    "def user_profile(lastn,firstn, **optArgk):\n",
    "    profile = {}\n",
    "    profile['firstName'] = firstn\n",
    "    profile['lastName'] = lastn\n",
    "    for key, value in optArgk.items():\n",
    "        profile[key] = value\n",
    "    return profile\n",
    "user_profile(\"khan\", \"waleed\", height = 2, gender = 'M')"
   ]
  },
  {
   "cell_type": "code",
   "execution_count": 70,
   "metadata": {},
   "outputs": [
    {
     "data": {
      "text/plain": [
       "6"
      ]
     },
     "execution_count": 70,
     "metadata": {},
     "output_type": "execute_result"
    }
   ],
   "source": [
    "import pizza\n",
    "pizza.add_num(2,4)"
   ]
  },
  {
   "cell_type": "code",
   "execution_count": 71,
   "metadata": {},
   "outputs": [
    {
     "data": {
      "text/plain": [
       "10"
      ]
     },
     "execution_count": 71,
     "metadata": {},
     "output_type": "execute_result"
    }
   ],
   "source": [
    "from pizza import add_num\n",
    "add_num(4,6)"
   ]
  },
  {
   "cell_type": "code",
   "execution_count": 72,
   "metadata": {},
   "outputs": [
    {
     "data": {
      "text/plain": [
       "5"
      ]
     },
     "execution_count": 72,
     "metadata": {},
     "output_type": "execute_result"
    }
   ],
   "source": [
    "from pizza import add_num as newa\n",
    "newa(2,3)"
   ]
  },
  {
   "cell_type": "code",
   "execution_count": 73,
   "metadata": {},
   "outputs": [
    {
     "data": {
      "text/plain": [
       "5"
      ]
     },
     "execution_count": 73,
     "metadata": {},
     "output_type": "execute_result"
    }
   ],
   "source": [
    "import pizza as nej\n",
    "nej.add_num(2,3)"
   ]
  },
  {
   "cell_type": "code",
   "execution_count": 102,
   "metadata": {},
   "outputs": [
    {
     "name": "stdout",
     "output_type": "stream",
     "text": [
      "waleed\n",
      "waleed\n",
      "as\n",
      "haha\n",
      "2\n",
      "waleed\n",
      "0\n",
      "0\n"
     ]
    },
    {
     "ename": "AttributeError",
     "evalue": "'Person' object has no attribute 'newattri'",
     "output_type": "error",
     "traceback": [
      "\u001b[1;31m---------------------------------------------------------------------------\u001b[0m",
      "\u001b[1;31mAttributeError\u001b[0m                            Traceback (most recent call last)",
      "\u001b[1;32m<ipython-input-102-bdecd2d0b254>\u001b[0m in \u001b[0;36m<module>\u001b[1;34m\u001b[0m\n\u001b[0;32m     26\u001b[0m \u001b[0mprint\u001b[0m\u001b[1;33m(\u001b[0m\u001b[0mPerson\u001b[0m\u001b[1;33m.\u001b[0m\u001b[0mcounter\u001b[0m\u001b[1;33m)\u001b[0m\u001b[1;33m\u001b[0m\u001b[1;33m\u001b[0m\u001b[0m\n\u001b[0;32m     27\u001b[0m \u001b[1;32mdel\u001b[0m \u001b[0ms1\u001b[0m\u001b[1;33m.\u001b[0m\u001b[0mnewattri\u001b[0m\u001b[1;33m\u001b[0m\u001b[1;33m\u001b[0m\u001b[0m\n\u001b[1;32m---> 28\u001b[1;33m \u001b[0mprint\u001b[0m\u001b[1;33m(\u001b[0m\u001b[0ms1\u001b[0m\u001b[1;33m.\u001b[0m\u001b[0mnewattri\u001b[0m\u001b[1;33m)\u001b[0m\u001b[1;33m\u001b[0m\u001b[1;33m\u001b[0m\u001b[0m\n\u001b[0m",
      "\u001b[1;31mAttributeError\u001b[0m: 'Person' object has no attribute 'newattri'"
     ]
    }
   ],
   "source": [
    "class Person():\n",
    "    counter = 0\n",
    "    def __init__(self):\n",
    "        self.name = \"\"\n",
    "        self.age = \"\"\n",
    "        self.older = \"\"\n",
    "    def login(self,name):\n",
    "        self.name = name\n",
    "        print(name)\n",
    "        pass\n",
    "    def logout():\n",
    "        pass\n",
    "s1 = Person()\n",
    "s1.login(\"waleed\")\n",
    "print(s1.name)\n",
    "\n",
    "s1.older =2\n",
    "s1.newattri = \"haha\"\n",
    "s2 = Person()\n",
    "s2.newattri = \"as\"\n",
    "print(s2.newattri)\n",
    "print(s1.newattri)\n",
    "print(s1.older)\n",
    "print(s1.name)\n",
    "print(s1.counter)\n",
    "print(Person.counter)\n"
   ]
  },
  {
   "cell_type": "code",
   "execution_count": 111,
   "metadata": {},
   "outputs": [
    {
     "name": "stdout",
     "output_type": "stream",
     "text": [
      "waleed speaks this is pak\n"
     ]
    }
   ],
   "source": [
    "class Parent():\n",
    "    def __init__(self):\n",
    "        self.name = \"\"\n",
    "    def speak(self,words=\"\"):\n",
    "        print(self.name + \" speaks \" + words)\n",
    "    def eat(self,food):\n",
    "        print(\"i like\" + str(food))\n",
    "class Child(Parent):\n",
    "    pass\n",
    "\n",
    "c_obj1 = Child()\n",
    "c_obj1.name = \"waleed\"\n",
    "c_obj1.speak(words=\"this is pak\")"
   ]
  },
  {
   "cell_type": "code",
   "execution_count": 113,
   "metadata": {},
   "outputs": [
    {
     "name": "stdout",
     "output_type": "stream",
     "text": [
      "ML\n",
      "Father Voice\n"
     ]
    }
   ],
   "source": [
    "class Father():\n",
    "    def __init__(self):\n",
    "        self.sound = \"Fs\"\n",
    "        self.eye_color = \"Brown\"\n",
    "        \n",
    "    def speak(self):\n",
    "        print(\"Father Voice\")\n",
    "    \n",
    "    def listing(self):\n",
    "        print(\"FL\")\n",
    "    \n",
    "class Mother():\n",
    "    def __init__(self):\n",
    "        self.face = \"Mother\"\n",
    "        self.hair_color = \"Black\"\n",
    "        \n",
    "    def listing(self):\n",
    "        print(\"ML\")\n",
    "    \n",
    "    def abc(self):\n",
    "        print(\"MABC\")\n",
    "        \n",
    "class Child(Mother, Father):\n",
    "    pass\n",
    "\n",
    "asif = Child()\n",
    "asif.listing()\n",
    "asif.speak()"
   ]
  },
  {
   "cell_type": "code",
   "execution_count": 115,
   "metadata": {},
   "outputs": [
    {
     "name": "stdout",
     "output_type": "stream",
     "text": [
      "8\n"
     ]
    }
   ],
   "source": [
    "class A():\n",
    "    def abc(self,*n):\n",
    "        print(sum(n))\n",
    "        \n",
    "ob = A()\n",
    "ob.abc(1,3,4)"
   ]
  },
  {
   "cell_type": "code",
   "execution_count": 118,
   "metadata": {},
   "outputs": [
    {
     "name": "stdout",
     "output_type": "stream",
     "text": [
      "a\n",
      "b\n"
     ]
    }
   ],
   "source": [
    "class A():\n",
    "    def funca(self):\n",
    "        print(\"a\")\n",
    "class B(A):\n",
    "    def funca(self):\n",
    "        print(\"b\")\n",
    "ob = A()\n",
    "ob.funca()\n",
    "ob1 = B()\n",
    "ob1.funca()"
   ]
  },
  {
   "cell_type": "code",
   "execution_count": 131,
   "metadata": {},
   "outputs": [
    {
     "data": {
      "text/plain": [
       "'Ali'"
      ]
     },
     "execution_count": 131,
     "metadata": {},
     "output_type": "execute_result"
    }
   ],
   "source": [
    "class Parent():\n",
    "    def __init__(self, name, age):\n",
    "        self.__name = name\n",
    "        self.__age = age\n",
    "    \n",
    "    def display(self):\n",
    "        print(\"name:\", self.__name)\n",
    "        print(\"Age:\",self.__age)\n",
    "        \n",
    "        \n",
    "    def change(self, a, b):\n",
    "        self.__name = a\n",
    "        self.__age = b\n",
    "        \n",
    "    def __info(self):\n",
    "        print(\"Hello world\")\n",
    "        \n",
    "    def abc(self):\n",
    "        self.__info()\n",
    "\n",
    "obj1 = Parent(\"Ali\", 25)\n",
    "#obj1.__name\n",
    "obj1._Parent__name"
   ]
  },
  {
   "cell_type": "code",
   "execution_count": 136,
   "metadata": {},
   "outputs": [
    {
     "name": "stdout",
     "output_type": "stream",
     "text": [
      "name: Ali\n",
      "Age: 25\n",
      "Hello world\n"
     ]
    }
   ],
   "source": [
    "class Parent():\n",
    "    def __init__(self, name, age):\n",
    "        self.__name = name\n",
    "        self.__age = age\n",
    "    \n",
    "    def display(self):\n",
    "        print(\"name:\", self.__name)\n",
    "        print(\"Age:\",self.__age)\n",
    "        \n",
    "        \n",
    "    def change(self, a, b):\n",
    "        self.__name = a\n",
    "        self.__age = b\n",
    "        \n",
    "    def __info(self):\n",
    "        print(\"Hello world\")\n",
    "        \n",
    "    def abc(self):\n",
    "        self.__info()\n",
    "\n",
    "obj1 = Parent(\"Ali\", 25)\n",
    "#obj1.__name\n",
    "obj1._Parent__name\n",
    "\n",
    "obj1.display()\n",
    "obj1.abc()"
   ]
  },
  {
   "cell_type": "code",
   "execution_count": null,
   "metadata": {},
   "outputs": [],
   "source": []
  }
 ],
 "metadata": {
  "kernelspec": {
   "display_name": "Python 3",
   "language": "python",
   "name": "python3"
  },
  "language_info": {
   "codemirror_mode": {
    "name": "ipython",
    "version": 3
   },
   "file_extension": ".py",
   "mimetype": "text/x-python",
   "name": "python",
   "nbconvert_exporter": "python",
   "pygments_lexer": "ipython3",
   "version": "3.7.4"
  }
 },
 "nbformat": 4,
 "nbformat_minor": 2
}
