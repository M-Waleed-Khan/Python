{
 "cells": [
  {
   "cell_type": "code",
   "execution_count": 4,
   "metadata": {},
   "outputs": [
    {
     "name": "stdout",
     "output_type": "stream",
     "text": [
      "<class 'bool'>\n",
      "False\n"
     ]
    }
   ],
   "source": [
    "age = 3\n",
    "check_age = age < 2\n",
    "print(type(check_age))\n",
    "print(check_age)"
   ]
  },
  {
   "cell_type": "code",
   "execution_count": 8,
   "metadata": {},
   "outputs": [
    {
     "name": "stdout",
     "output_type": "stream",
     "text": [
      "3\n"
     ]
    }
   ],
   "source": [
    "command = 3\n",
    "if command == 1:\n",
    "    print(\"1\")\n",
    "elif command == 2:\n",
    "    print(\"2\")\n",
    "elif command == 3:\n",
    "    print(\"3\")\n",
    "else:\n",
    "    print(\"0\")"
   ]
  },
  {
   "cell_type": "code",
   "execution_count": 9,
   "metadata": {},
   "outputs": [
    {
     "name": "stdout",
     "output_type": "stream",
     "text": [
      "0\n",
      "1\n",
      "2\n",
      "3\n",
      "4\n",
      "5\n",
      "6\n",
      "7\n",
      "8\n",
      "9\n"
     ]
    }
   ],
   "source": [
    "for i in range(10):\n",
    "    print(i)"
   ]
  },
  {
   "cell_type": "code",
   "execution_count": 12,
   "metadata": {},
   "outputs": [
    {
     "name": "stdout",
     "output_type": "stream",
     "text": [
      "0\n",
      "3\n",
      "6\n",
      "9\n"
     ]
    }
   ],
   "source": [
    "for i in range(0,10,3):\n",
    "    print(i)"
   ]
  },
  {
   "cell_type": "code",
   "execution_count": 17,
   "metadata": {},
   "outputs": [
    {
     "name": "stdout",
     "output_type": "stream",
     "text": [
      "2\n"
     ]
    }
   ],
   "source": [
    "age = 2\n",
    "for i in range(10):\n",
    "    if age == 2:\n",
    "        print('2')\n",
    "        break\n",
    "    else:\n",
    "        print(i)\n",
    "        continue\n",
    "    print('as continue ran, it wont run')"
   ]
  },
  {
   "cell_type": "code",
   "execution_count": 28,
   "metadata": {},
   "outputs": [],
   "source": [
    "if age == 2:\n",
    "    pass\n",
    "else:\n",
    "    print(\"wow\")"
   ]
  },
  {
   "cell_type": "code",
   "execution_count": 29,
   "metadata": {},
   "outputs": [],
   "source": [
    "#DOCSTRING"
   ]
  },
  {
   "cell_type": "code",
   "execution_count": 39,
   "metadata": {},
   "outputs": [
    {
     "name": "stdout",
     "output_type": "stream",
     "text": [
      "Return argument a is required\n",
      "\n",
      "Help on function myFunc in module __main__:\n",
      "\n",
      "myFunc(a)\n",
      "    Return argument a is required\n",
      "\n"
     ]
    },
    {
     "data": {
      "text/plain": [
       "4"
      ]
     },
     "execution_count": 39,
     "metadata": {},
     "output_type": "execute_result"
    }
   ],
   "source": [
    "#ONE-LINE DOCSTRING\n",
    "\n",
    "def myFunc(a):\n",
    "    '''Return argument a is required'''\n",
    "    return a**a\n",
    "print(myFunc.__doc__)\n",
    "print()\n",
    "help(myFunc)\n",
    "myFunc(2)\n"
   ]
  },
  {
   "cell_type": "code",
   "execution_count": 48,
   "metadata": {},
   "outputs": [
    {
     "name": "stdout",
     "output_type": "stream",
     "text": [
      "This function will simply output the argument  \n",
      "    the printed arge    \n",
      "    hence(): = new    \n",
      "    +- values()\n",
      "    \n",
      "    \n",
      "\n",
      "Help on function myFunc in module __main__:\n",
      "\n",
      "myFunc(argument)\n",
      "    This function will simply output the argument  \n",
      "    the printed arge    \n",
      "    hence(): = new    \n",
      "    +- values()\n",
      "\n"
     ]
    }
   ],
   "source": [
    "def myFunc(argument):\n",
    "    '''This function will simply output the argument  \n",
    "    the printed arge    \n",
    "    hence(): = new    \n",
    "    +- values()\n",
    "    \n",
    "    '''\n",
    "    return argument\n",
    "print(myFunc.__doc__)\n",
    "\n",
    "print()\n",
    "\n",
    "help(myFunc)"
   ]
  },
  {
   "cell_type": "code",
   "execution_count": null,
   "metadata": {},
   "outputs": [],
   "source": []
  }
 ],
 "metadata": {
  "kernelspec": {
   "display_name": "Python 3",
   "language": "python",
   "name": "python3"
  },
  "language_info": {
   "codemirror_mode": {
    "name": "ipython",
    "version": 3
   },
   "file_extension": ".py",
   "mimetype": "text/x-python",
   "name": "python",
   "nbconvert_exporter": "python",
   "pygments_lexer": "ipython3",
   "version": "3.7.4"
  }
 },
 "nbformat": 4,
 "nbformat_minor": 2
}
