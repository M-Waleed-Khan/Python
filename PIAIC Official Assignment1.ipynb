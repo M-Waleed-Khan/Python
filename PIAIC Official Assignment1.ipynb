{
 "cells": [
  {
   "cell_type": "markdown",
   "metadata": {},
   "source": [
    " **Calculate Area of a Circle**"
   ]
  },
  {
   "cell_type": "code",
   "execution_count": 26,
   "metadata": {},
   "outputs": [
    {
     "name": "stdout",
     "output_type": "stream",
     "text": [
      "Please Enter radius of Circule: 0.5\n",
      "Area of Circle with radius 0.5 is 0.7853981634\n"
     ]
    }
   ],
   "source": [
    "from math import pi as p\n",
    "radius = input(\"Please Enter radius of Circule: \")\n",
    "area = p * float(radius) ** 2\n",
    "print(\"Area of Circle with radius \"+str(radius)+\" is \" + str.format('{0:.10f}', area))"
   ]
  },
  {
   "cell_type": "markdown",
   "metadata": {},
   "source": [
    "**Check Number either positive, negative or zero**"
   ]
  },
  {
   "cell_type": "code",
   "execution_count": 2,
   "metadata": {},
   "outputs": [
    {
     "name": "stdout",
     "output_type": "stream",
     "text": [
      "Please enter number: 6\n",
      "Positive Number Entered\n"
     ]
    }
   ],
   "source": [
    "number = int(input(\"Please enter number: \"))\n",
    "if number > 0:\n",
    "    print(\"Positive Number Entered\")\n",
    "elif number < 0:\n",
    "    print(\"Negative Number Entered\")\n",
    "else:\n",
    "    print(\"Zero Entered\")"
   ]
  },
  {
   "cell_type": "markdown",
   "metadata": {},
   "source": [
    "**Divisibility Check of two numbers**"
   ]
  },
  {
   "cell_type": "code",
   "execution_count": 7,
   "metadata": {},
   "outputs": [
    {
     "name": "stdout",
     "output_type": "stream",
     "text": [
      "Enter your dividend: 2\n",
      "Enter your divisor: 3\n",
      "Number 2 is Not Completely divisible by 3\n"
     ]
    }
   ],
   "source": [
    "dividend = int(input(\"Enter your dividend: \"))\n",
    "divisor = int(input(\"Enter your divisor: \"))\n",
    "if dividend % divisor == 0:\n",
    "    print(\"Number \"+str(dividend)+\" is Completely divisible by \"+str(divisor))\n",
    "else:\n",
    "    print(\"Number \"+str(dividend)+\" is Not Completely divisible by \"+str(divisor))"
   ]
  },
  {
   "cell_type": "markdown",
   "metadata": {},
   "source": [
    "**Days Calculator**"
   ]
  },
  {
   "cell_type": "code",
   "execution_count": 10,
   "metadata": {},
   "outputs": [
    {
     "name": "stdout",
     "output_type": "stream",
     "text": [
      "Enter a date in (dd/mm/yy) format: 12/12/2018\n",
      "Enter a date in (dd/mm/yy) format: 16/12/2018\n",
      "There are 4 days in between 12/12/2018 and 16/12/2018\n"
     ]
    }
   ],
   "source": [
    "#import datetime\n",
    "#from datetime import date\n",
    "#userDate = input(\"Enter a date in (dd/mm/yy) format: \")\n",
    "#d2 = str(userDate)[:10]\n",
    "#userDate2 = input(\"Enter a date in (dd/mm/yy) format: \")\n",
    "#day, month, year = map(int, d2.split('-'))\n",
    "#day, month, year = map(int, userDate2.split('-'))\n",
    "#date0 = userDate.date(year, month, day)\n",
    "#date1 = datetime.date(year, month, day)\n",
    "#userNew = datetime.datetime.strptime(date0, \"%y/%m/%d\")\n",
    "#date1 = datetime.datetime.strptime(date1, \"%y/%m/%d\")\n",
    "#print(date0)\n",
    "#print(date1)\n",
    "#d0 = date(2017, 8, 18)\n",
    "#d1 = date(2017, 10, 26)\n",
    "#delta = date1 - date0\n",
    "#print(delta.days)\n",
    "#date_entry = input('Enter a date in YYYY-MM-DD format')\n",
    "#year, month, day = map(int, date_entry.split('-'))\n",
    "#date1 = datetime.date(year, month, day)\n",
    "\n",
    "from datetime import date\n",
    "userDate = input(\"Enter a date in (dd/mm/yy) format: \")\n",
    "userDate2 = input(\"Enter a date in (dd/mm/yy) format: \")\n",
    "day, month, year = map(int, userDate.split('/'))\n",
    "day2, month2, year2 = map(int, userDate2.split('/'))\n",
    "f_date = date(year, month, day)\n",
    "l_date = date(year2, month2, day2)\n",
    "delta = l_date - f_date\n",
    "print(\"There are \"+str(delta.days)+\" days in between \"+str(userDate)+\" and \"+str(userDate2))"
   ]
  },
  {
   "cell_type": "markdown",
   "metadata": {},
   "source": [
    "**Calculate Volume of a sphere**"
   ]
  },
  {
   "cell_type": "code",
   "execution_count": 29,
   "metadata": {},
   "outputs": [
    {
     "name": "stdout",
     "output_type": "stream",
     "text": [
      "Enter Radius of Sphere: 1\n",
      "Volume of the Sphere with Radius 1 is 4.19\n"
     ]
    }
   ],
   "source": [
    "from math import pi as p\n",
    "radius = int(input(\"Enter Radius of Sphere: \"))\n",
    "volume = 4 / 3 * p * radius ** 3\n",
    "print(\"Volume of the Sphere with Radius \" + str(radius) +\" is\"+ str.format('{0: .2f}',volume))\n",
    "\n",
    "\n"
   ]
  },
  {
   "cell_type": "markdown",
   "metadata": {},
   "source": [
    "**Copy string n times**"
   ]
  },
  {
   "cell_type": "code",
   "execution_count": 37,
   "metadata": {},
   "outputs": [
    {
     "name": "stdout",
     "output_type": "stream",
     "text": [
      "Enter String: Hi\n",
      "How many copies of String you need: 4\n",
      "4 Copies of Hi are HiHiHiHi\n"
     ]
    }
   ],
   "source": [
    "word = input(\"Enter String: \")\n",
    "multiples = int(input(\"How many copies of String you need: \"))\n",
    "\n",
    "print(str(multiples) + \" Copies of \" + word + \" are \" + word * multiples)\n"
   ]
  },
  {
   "cell_type": "markdown",
   "metadata": {},
   "source": [
    "**Check if number is Even or Odd**"
   ]
  },
  {
   "cell_type": "code",
   "execution_count": 41,
   "metadata": {},
   "outputs": [
    {
     "name": "stdout",
     "output_type": "stream",
     "text": [
      "Enter Number: 9\n",
      "9 is Odd\n"
     ]
    }
   ],
   "source": [
    "number = int(input(\"Enter Number: \"))\n",
    "if number % 2 == 0:\n",
    "    print(str(number) + \" is Even\")\n",
    "else:\n",
    "    print(str(number) + \" is Odd\")"
   ]
  },
  {
   "cell_type": "markdown",
   "metadata": {},
   "source": [
    "**Write a Python program to test whether a passed letter is a vowel or not**"
   ]
  },
  {
   "cell_type": "code",
   "execution_count": 46,
   "metadata": {},
   "outputs": [
    {
     "name": "stdout",
     "output_type": "stream",
     "text": [
      "Enter a character: a\n",
      "Letter a is Vowel\n"
     ]
    }
   ],
   "source": [
    "alphabet = input(\"Enter a character: \")\n",
    "if alphabet == 'A' or alphabet == 'a' or alphabet == 'E' or alphabet == 'e' or alphabet == 'I' or alphabet == 'i' or alphabet == 'O' or alphabet == 'o' or alphabet == 'U' or alphabet == 'u':\n",
    "    print(\"Letter \" + alphabet+\" is Vowel\")\n",
    "else:\n",
    "    print(\"Letter \" + alphabet+ \" is no Vowel\")"
   ]
  },
  {
   "cell_type": "markdown",
   "metadata": {},
   "source": [
    "**Triangle area**"
   ]
  },
  {
   "cell_type": "code",
   "execution_count": 53,
   "metadata": {},
   "outputs": [
    {
     "name": "stdout",
     "output_type": "stream",
     "text": [
      "Enter magnitude of Triangle base: 4\n",
      "Enter Magnitude of Triangle Height: 4\n",
      "Area of a Triangle with Height 4 and Base 4 is 8\n"
     ]
    }
   ],
   "source": [
    "base = int(input(\"Enter magnitude of Triangle base: \"))\n",
    "height = int(input(\"Enter Magnitude of Triangle Height: \"))\n",
    "area = int((base * height) / 2)\n",
    "print(\"Area of a Triangle with Height \" + str(height) + \" and Base \" + str(base) + \" is \" + str(area))"
   ]
  },
  {
   "cell_type": "markdown",
   "metadata": {},
   "source": [
    "**Calculate Interest**"
   ]
  },
  {
   "cell_type": "code",
   "execution_count": 68,
   "metadata": {},
   "outputs": [
    {
     "name": "stdout",
     "output_type": "stream",
     "text": [
      "Please enter principal amount: 10000\n",
      "Please enter Rate of interest in %: 0.1\n",
      "Enter number of years for investment: 5\n",
      "After 5 years your principal amount 10000 over an interest rate of 0.1 % will be  16105.1\n"
     ]
    }
   ],
   "source": [
    "principal = int(input(\"Please enter principal amount: \"))\n",
    "rate = float(input(\"Please enter Rate of interest in %: \"))\n",
    "time = int(input(\"Enter number of years for investment: \"))\n",
    "\n",
    "interest = principal*(1+rate)**time\n",
    "print(\"After 5 years your principal amount \"+str(principal)+\" over an interest rate of \"+ str(rate)+\" % will be \"+ str.format('{0: .1f}', interest))"
   ]
  },
  {
   "cell_type": "code",
   "execution_count": 4,
   "metadata": {},
   "outputs": [
    {
     "name": "stdout",
     "output_type": "stream",
     "text": [
      "Enter Co-ordinate for x1: 2\n",
      "Enter Co-ordinate for x2: 4\n",
      "Enter Co-ordinate for y1: 4\n",
      "Enter Co-ordinate for y2: 4\n",
      "Distance between points (2, 4) and (4, 4) is 2\n"
     ]
    }
   ],
   "source": [
    "from math import sqrt\n",
    "x1 = int(input(\"Enter Co-ordinate for x1: \"))\n",
    "x2 = int(input(\"Enter Co-ordinate for x2: \"))\n",
    "y1 = int(input(\"Enter Co-ordinate for y1: \"))\n",
    "y2 = int(input(\"Enter Co-ordinate for y2: \"))\n",
    "distance = int(sqrt(((x2 - x1)**2) + (y2 - y1)**2))\n",
    "print(\"Distance between points (\" +str(x1)+ \", \" + str(x2) + \") and (\" + str(y1) + \", \" + str(y2)+ \") is \"+ str(distance))#### "
   ]
  },
  {
   "cell_type": "markdown",
   "metadata": {},
   "source": [
    "**Feet to Centimeter Converter**"
   ]
  },
  {
   "cell_type": "code",
   "execution_count": 6,
   "metadata": {},
   "outputs": [
    {
     "name": "stdout",
     "output_type": "stream",
     "text": [
      "Enter Height in Feet: 5\n",
      "There are 152.4 Cm in 5 ft\n"
     ]
    }
   ],
   "source": [
    "height = int(input(\"Enter Height in Feet: \"))\n",
    "centimeters = 30.48 * height\n",
    "\n",
    "print(\"There are \"+str(centimeters)+\" Cm in \" + str(height)+\" ft\")"
   ]
  },
  {
   "cell_type": "markdown",
   "metadata": {},
   "source": [
    "**BMI Calculator**"
   ]
  },
  {
   "cell_type": "code",
   "execution_count": 12,
   "metadata": {},
   "outputs": [
    {
     "name": "stdout",
     "output_type": "stream",
     "text": [
      "Enter Height in Cm: 180\n",
      "Enter Weight in Kg: 75\n",
      "Your BMI is  23.15\n"
     ]
    }
   ],
   "source": [
    "\n",
    "#Your BMI is 23.15\n",
    "\n",
    "height = int(input(\"Enter Height in Cm: \"))\n",
    "weight = int(input(\"Enter Weight in Kg: \"))\n",
    "height = height / 100\n",
    "height = height * height\n",
    "bmi = weight / height\n",
    "print(\"Your BMI is \" + str.format('{0: .2f}', bmi))"
   ]
  },
  {
   "cell_type": "markdown",
   "metadata": {},
   "source": [
    "**Sum of n Positive Integers**"
   ]
  },
  {
   "cell_type": "code",
   "execution_count": 20,
   "metadata": {},
   "outputs": [
    {
     "name": "stdout",
     "output_type": "stream",
     "text": [
      "Enter value of n: 5\n",
      "Sum of n Positive integers till 5 is 15\n"
     ]
    }
   ],
   "source": [
    "num = int(input(\"Enter value of n: \"))\n",
    "num += 1\n",
    "value = 0\n",
    "for n in range(1, num):\n",
    "    value += n\n",
    "num -= 1\n",
    "print(\"Sum of n Positive integers till \"+str(num) + \" is \" + str(value))"
   ]
  },
  {
   "cell_type": "markdown",
   "metadata": {},
   "source": [
    "\n",
    "**Digits Sum of a Number**"
   ]
  },
  {
   "cell_type": "code",
   "execution_count": 29,
   "metadata": {},
   "outputs": [
    {
     "name": "stdout",
     "output_type": "stream",
     "text": [
      "Enter a number: 15\n",
      "Sum of 1 + 5 is 6\n"
     ]
    }
   ],
   "source": [
    "num = input(\"Enter a number: \")\n",
    "digits = [int(x) for x in str(num)]\n",
    "sum = digits[0] + digits[1]\n",
    "print(\"Sum of \"+ str(digits[0])+ \" + \" + str(digits[1]) + \" is \" + str(sum))"
   ]
  },
  {
   "cell_type": "markdown",
   "metadata": {},
   "source": [
    "**Decimal to Binary Converter**"
   ]
  },
  {
   "cell_type": "code",
   "execution_count": 51,
   "metadata": {},
   "outputs": [
    {
     "name": "stdout",
     "output_type": "stream",
     "text": [
      "Enter a decimal number: 32\n",
      "Binary Representation of 32 is 100000\n"
     ]
    }
   ],
   "source": [
    "num = int(input(\"Enter a decimal number: \"))\n",
    "numRec = num\n",
    "myList = []\n",
    "while num > 0:\n",
    "    if num % 2 == 0:\n",
    "        myList.insert(0, 0)\n",
    "    else:\n",
    "        myList.insert(0, 1)\n",
    "    num = int(num / 2)\n",
    "intNum = int(\"\".join(map(str,myList)))\n",
    "print(\"Binary Representation of \" + str(numRec) + \" is \" + str(intNum))"
   ]
  },
  {
   "cell_type": "markdown",
   "metadata": {},
   "source": [
    "**Binary to Decimal Converter**"
   ]
  },
  {
   "cell_type": "code",
   "execution_count": 6,
   "metadata": {},
   "outputs": [
    {
     "name": "stdout",
     "output_type": "stream",
     "text": [
      "Enter a Binary number: 1001\n",
      "Decimal Representation of 1001 is 9\n"
     ]
    }
   ],
   "source": [
    "num = int(input(\"Enter a Binary number: \"))\n",
    "decNum = int(str(num), 2)\n",
    "print(\"Decimal Representation of \" + str(num) + \" is \" + str(decNum))"
   ]
  },
  {
   "cell_type": "markdown",
   "metadata": {},
   "source": [
    "**Vowel and Consonants Counter**"
   ]
  },
  {
   "cell_type": "code",
   "execution_count": 11,
   "metadata": {},
   "outputs": [
    {
     "name": "stdout",
     "output_type": "stream",
     "text": [
      "Enter Text: QuickBrownFoxJumpsovertheDog\n",
      "Vowels: 9\n",
      "Consonants: 19\n"
     ]
    }
   ],
   "source": [
    "sentence = input(\"Enter Text: \")\n",
    "vowel = 0\n",
    "consonant = 0\n",
    "for alphabet in sentence:\n",
    "    if alphabet == 'A' or alphabet == 'a' or alphabet == 'E' or alphabet == 'e' or alphabet == 'I' or alphabet == 'i' or alphabet == 'O' or alphabet == 'o' or alphabet == 'U' or alphabet == 'u':\n",
    "        vowel += 1\n",
    "    else:\n",
    "        consonant += 1\n",
    "print(\"Vowels: \" + str(vowel))\n",
    "print(\"Consonants: \" + str(consonant))"
   ]
  },
  {
   "cell_type": "markdown",
   "metadata": {},
   "source": [
    "**Palindrome tester**"
   ]
  },
  {
   "cell_type": "code",
   "execution_count": 23,
   "metadata": {},
   "outputs": [
    {
     "name": "stdout",
     "output_type": "stream",
     "text": [
      "Enter Text: AHA\n",
      "Text AHA is Palindrome\n"
     ]
    }
   ],
   "source": [
    "sentence = input(\"Enter Text: \")\n",
    "mySlice = sentence[-1::-1]\n",
    "if mySlice == sentence:\n",
    "    print(\"Text \" + str(sentence) + \" is Palindrome\")\n",
    "else:\n",
    "    print(\"Text \" + str(sentence) + \" is not Palindrome\")"
   ]
  },
  {
   "cell_type": "code",
   "execution_count": 31,
   "metadata": {},
   "outputs": [
    {
     "name": "stdout",
     "output_type": "stream",
     "text": [
      "Enter Text: Python 3.2\n",
      "Numbers = 2\n",
      "Alphabets = 6\n",
      "Special = 1\n",
      "Spaces = 1\n"
     ]
    }
   ],
   "source": [
    "sentence = input(\"Enter Text: \")\n",
    "alphabet = 0\n",
    "digit = 0\n",
    "spaces = 0\n",
    "special = 0\n",
    "for word in sentence:\n",
    "    if word.isalpha():\n",
    "        alphabet += 1\n",
    "    elif word.isdigit():\n",
    "        digit += 1\n",
    "    elif word.isspace():\n",
    "        spaces += 1\n",
    "    else:\n",
    "        special += 1\n",
    "       \n",
    "print(\"Numbers = \" +str(digit))\n",
    "print(\"Alphabets = \" +str(alphabet))\n",
    "print(\"Special = \" +str(special))\n",
    "print(\"Spaces = \" +str(special))\n"
   ]
  },
  {
   "cell_type": "markdown",
   "metadata": {},
   "source": [
    "**21**"
   ]
  },
  {
   "cell_type": "code",
   "execution_count": 57,
   "metadata": {},
   "outputs": [
    {
     "name": "stdout",
     "output_type": "stream",
     "text": [
      "* \n",
      "* * \n",
      "* * * \n",
      "* * * * \n",
      "* * * * * \n",
      "* * * * \n",
      "* * * \n",
      "* * \n",
      "* \n"
     ]
    }
   ],
   "source": [
    "n = 1\n",
    "x = 0\n",
    "for n in range(4):\n",
    "    for x in range(n+1):\n",
    "        print('*', end = \" \")\n",
    "    print(\"\")\n",
    "for n in range(4, -1 , -1):\n",
    "    for x in range(n+1):\n",
    "        print('*', end = \" \")\n",
    "    print(\"\")\n",
    "        "
   ]
  },
  {
   "cell_type": "markdown",
   "metadata": {},
   "source": [
    "**22**"
   ]
  },
  {
   "cell_type": "code",
   "execution_count": 56,
   "metadata": {},
   "outputs": [
    {
     "name": "stdout",
     "output_type": "stream",
     "text": [
      "1 \n",
      "1 2 \n",
      "1 2 3 \n",
      "1 2 3 4 \n",
      "1 2 3 4 5 \n",
      "1 2 3 4 \n",
      "1 2 3 \n",
      "1 2 \n",
      "1 \n"
     ]
    }
   ],
   "source": [
    "n = 1\n",
    "x = 0\n",
    "for n in range(4):\n",
    "    num = 1\n",
    "    for x in range(n+1):        \n",
    "        print(num, end = \" \")\n",
    "        num += 1\n",
    "    print(\"\")\n",
    "for n in range(4, -1 , -1):\n",
    "    num = 1\n",
    "    for x in range(n+1):\n",
    "        print(num, end = \" \")        \n",
    "        num += 1\n",
    "    print(\"\")\n",
    "        "
   ]
  },
  {
   "cell_type": "markdown",
   "metadata": {},
   "source": [
    "**23**"
   ]
  },
  {
   "cell_type": "code",
   "execution_count": 60,
   "metadata": {},
   "outputs": [
    {
     "name": "stdout",
     "output_type": "stream",
     "text": [
      "1\n",
      "22\n",
      "333\n",
      "4444\n",
      "55555\n",
      "666666\n",
      "7777777\n",
      "88888888\n",
      "999999999\n"
     ]
    }
   ],
   "source": [
    "n = 1\n",
    "x = 0\n",
    "num = 1\n",
    "for n in range(9):\n",
    "    for x in range(n+1):        \n",
    "        print(num, end = \"\")\n",
    "    num += 1\n",
    "    print(\"\")\n",
    "        "
   ]
  }
 ],
 "metadata": {
  "kernelspec": {
   "display_name": "Python 3",
   "language": "python",
   "name": "python3"
  },
  "language_info": {
   "codemirror_mode": {
    "name": "ipython",
    "version": 3
   },
   "file_extension": ".py",
   "mimetype": "text/x-python",
   "name": "python",
   "nbconvert_exporter": "python",
   "pygments_lexer": "ipython3",
   "version": "3.7.4"
  }
 },
 "nbformat": 4,
 "nbformat_minor": 2
}
