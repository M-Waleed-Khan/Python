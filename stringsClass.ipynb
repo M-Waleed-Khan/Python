{
 "cells": [
  {
   "cell_type": "code",
   "execution_count": 1,
   "metadata": {},
   "outputs": [
    {
     "data": {
      "text/plain": [
       "204.0"
      ]
     },
     "execution_count": 1,
     "metadata": {},
     "output_type": "execute_result"
    }
   ],
   "source": [
    "5 + 7 - 8 *(2/2) + 200\n",
    "#this is a commment\n"
   ]
  },
  {
   "cell_type": "code",
   "execution_count": 3,
   "metadata": {},
   "outputs": [
    {
     "name": "stdout",
     "output_type": "stream",
     "text": [
      "8\n",
      "8\n",
      "140728338588272\n",
      "140728338588272\n"
     ]
    }
   ],
   "source": [
    "a=8\n",
    "b=8\n",
    "print(a)\n",
    "print(b)\n",
    "print(id(a))\n",
    "print(id(b))"
   ]
  },
  {
   "cell_type": "code",
   "execution_count": 4,
   "metadata": {},
   "outputs": [
    {
     "data": {
      "text/plain": [
       "int"
      ]
     },
     "execution_count": 4,
     "metadata": {},
     "output_type": "execute_result"
    }
   ],
   "source": [
    "a=7\n",
    "type(a)"
   ]
  },
  {
   "cell_type": "code",
   "execution_count": 6,
   "metadata": {},
   "outputs": [
    {
     "data": {
      "text/plain": [
       "str"
      ]
     },
     "execution_count": 6,
     "metadata": {},
     "output_type": "execute_result"
    }
   ],
   "source": [
    "a=\"pakistan\"\n",
    "type(\"pakistan\")"
   ]
  },
  {
   "cell_type": "code",
   "execution_count": 8,
   "metadata": {},
   "outputs": [
    {
     "data": {
      "text/plain": [
       "3"
      ]
     },
     "execution_count": 8,
     "metadata": {},
     "output_type": "execute_result"
    }
   ],
   "source": [
    "#TYPECASTING\n",
    "#CONVERTING ONE DATATPYE TO ANOTHER\n",
    "int('1') + int(\"2\")"
   ]
  },
  {
   "cell_type": "code",
   "execution_count": 9,
   "metadata": {},
   "outputs": [
    {
     "data": {
      "text/plain": [
       "9"
      ]
     },
     "execution_count": 9,
     "metadata": {},
     "output_type": "execute_result"
    }
   ],
   "source": [
    "7 +  int('2')\n"
   ]
  },
  {
   "cell_type": "code",
   "execution_count": 10,
   "metadata": {},
   "outputs": [
    {
     "data": {
      "text/plain": [
       "'aa'"
      ]
     },
     "execution_count": 10,
     "metadata": {},
     "output_type": "execute_result"
    }
   ],
   "source": [
    "a = \"a\"\n",
    "a * 2"
   ]
  },
  {
   "cell_type": "code",
   "execution_count": 26,
   "metadata": {},
   "outputs": [
    {
     "name": "stdout",
     "output_type": "stream",
     "text": [
      "waleedwaleedwaleedwaleed\n"
     ]
    }
   ],
   "source": [
    "#OPERATOR OVERLOADING \n",
    "a = \"waleed\" * 2\n",
    "a *= 2\n",
    "print(a)"
   ]
  },
  {
   "cell_type": "code",
   "execution_count": 31,
   "metadata": {},
   "outputs": [
    {
     "name": "stdout",
     "output_type": "stream",
     "text": [
      "<class 'list'>\n",
      "['waleed', 'hamza', 'junaid', 200]\n"
     ]
    }
   ],
   "source": [
    "names = [\"waleed\",\"hamza\", \"junaid\",200]\n",
    "print(type(names))\n",
    "print(names)"
   ]
  },
  {
   "cell_type": "code",
   "execution_count": 30,
   "metadata": {},
   "outputs": [
    {
     "name": "stdout",
     "output_type": "stream",
     "text": [
      "<class 'tuple'>\n",
      "('waleed', 'hamza', 'junaid', 200)\n"
     ]
    }
   ],
   "source": [
    "names = (\"waleed\",\"hamza\", \"junaid\",200)\n",
    "print(type(names))\n",
    "print(names)"
   ]
  },
  {
   "cell_type": "code",
   "execution_count": 33,
   "metadata": {},
   "outputs": [
    {
     "name": "stdout",
     "output_type": "stream",
     "text": [
      "<class 'set'>\n",
      "{'junaid', 'hamza', 'waleed', 200}\n"
     ]
    }
   ],
   "source": [
    "names = {\"waleed\",\"hamza\", \"junaid\",200}\n",
    "print(type(names))\n",
    "print(names)"
   ]
  },
  {
   "cell_type": "code",
   "execution_count": 39,
   "metadata": {},
   "outputs": [
    {
     "name": "stdout",
     "output_type": "stream",
     "text": [
      "<class 'list'>\n",
      "hamza\n",
      "hamza\n"
     ]
    }
   ],
   "source": [
    "#INDEX     0        1         2      3\n",
    "names = [\"waleed\",\"hamza\", \"junaid\",200]\n",
    "#INDEX     -4        -3         -2      -1\n",
    "print(type(names))\n",
    "print(names[1])\n",
    "print(names[-3])"
   ]
  },
  {
   "cell_type": "code",
   "execution_count": 40,
   "metadata": {},
   "outputs": [
    {
     "name": "stdout",
     "output_type": "stream",
     "text": [
      "<class 'tuple'>\n",
      "hamza\n",
      "hamza\n"
     ]
    }
   ],
   "source": [
    "#INDEX     0        1         2      3\n",
    "names = (\"waleed\",\"hamza\", \"junaid\",200)\n",
    "#INDEX     -4        -3     -2      -1\n",
    "print(type(names))\n",
    "print(names[1])\n",
    "print(names[-3])"
   ]
  },
  {
   "cell_type": "code",
   "execution_count": 47,
   "metadata": {},
   "outputs": [
    {
     "name": "stdout",
     "output_type": "stream",
     "text": [
      "<class 'set'>\n",
      "{200, 'hamza', 'waleed', 'HAMZA', 'junaid'}\n",
      "hamza\n",
      "waleed\n"
     ]
    }
   ],
   "source": [
    "#INDEX     IS NOT POSSIBLE\n",
    "names = {\"waleed\",\"hamza\", \"junaid\",200 ,\"HAMZA\"}\n",
    "#INDEX     \n",
    "print(type(names))\n",
    "print(names)\n",
    "#REMOVES REPETITION\n",
    "#print(names[1]) not possible because it is a set\n",
    "#FIRST CONVERT THIS SET INTO LIST\n",
    "names = list(names)\n",
    "print(names[1])\n",
    "print(names[-3])"
   ]
  },
  {
   "cell_type": "code",
   "execution_count": 55,
   "metadata": {},
   "outputs": [
    {
     "name": "stdout",
     "output_type": "stream",
     "text": [
      "waleed\n",
      "pakistan\n",
      "[True, 'PAKISTAN', 20, 3.0]\n"
     ]
    }
   ],
   "source": [
    "data = {\n",
    "    \"name\": \"waleed\",\n",
    "    \"fname\": \"hafeez\",\n",
    "    5 : \"pakistan\",\n",
    "    \"a\":[True,\"PAKISTAN\",20,3.0]\n",
    "}\n",
    "print(data['name'])\n",
    "print(data[5])\n",
    "print(data['a'])"
   ]
  },
  {
   "cell_type": "code",
   "execution_count": 61,
   "metadata": {},
   "outputs": [
    {
     "data": {
      "text/plain": [
       "['__add__',\n",
       " '__class__',\n",
       " '__contains__',\n",
       " '__delattr__',\n",
       " '__dir__',\n",
       " '__doc__',\n",
       " '__eq__',\n",
       " '__format__',\n",
       " '__ge__',\n",
       " '__getattribute__',\n",
       " '__getitem__',\n",
       " '__getnewargs__',\n",
       " '__gt__',\n",
       " '__hash__',\n",
       " '__init__',\n",
       " '__init_subclass__',\n",
       " '__iter__',\n",
       " '__le__',\n",
       " '__len__',\n",
       " '__lt__',\n",
       " '__mod__',\n",
       " '__mul__',\n",
       " '__ne__',\n",
       " '__new__',\n",
       " '__reduce__',\n",
       " '__reduce_ex__',\n",
       " '__repr__',\n",
       " '__rmod__',\n",
       " '__rmul__',\n",
       " '__setattr__',\n",
       " '__sizeof__',\n",
       " '__str__',\n",
       " '__subclasshook__',\n",
       " 'capitalize',\n",
       " 'casefold',\n",
       " 'center',\n",
       " 'count',\n",
       " 'encode',\n",
       " 'endswith',\n",
       " 'expandtabs',\n",
       " 'find',\n",
       " 'format',\n",
       " 'format_map',\n",
       " 'index',\n",
       " 'isalnum',\n",
       " 'isalpha',\n",
       " 'isascii',\n",
       " 'isdecimal',\n",
       " 'isdigit',\n",
       " 'isidentifier',\n",
       " 'islower',\n",
       " 'isnumeric',\n",
       " 'isprintable',\n",
       " 'isspace',\n",
       " 'istitle',\n",
       " 'isupper',\n",
       " 'join',\n",
       " 'ljust',\n",
       " 'lower',\n",
       " 'lstrip',\n",
       " 'maketrans',\n",
       " 'partition',\n",
       " 'replace',\n",
       " 'rfind',\n",
       " 'rindex',\n",
       " 'rjust',\n",
       " 'rpartition',\n",
       " 'rsplit',\n",
       " 'rstrip',\n",
       " 'split',\n",
       " 'splitlines',\n",
       " 'startswith',\n",
       " 'strip',\n",
       " 'swapcase',\n",
       " 'title',\n",
       " 'translate',\n",
       " 'upper',\n",
       " 'zfill']"
      ]
     },
     "execution_count": 61,
     "metadata": {},
     "output_type": "execute_result"
    }
   ],
   "source": [
    "a = \"waleed\"\n",
    "#PRESS TAB to check methods applyable and this as well\n",
    "dir(a)"
   ]
  },
  {
   "cell_type": "code",
   "execution_count": 72,
   "metadata": {},
   "outputs": [
    {
     "name": "stdout",
     "output_type": "stream",
     "text": [
      "WALEED\n",
      "waleed\n"
     ]
    },
    {
     "data": {
      "text/plain": [
       "'Waleed'"
      ]
     },
     "execution_count": 72,
     "metadata": {},
     "output_type": "execute_result"
    }
   ],
   "source": [
    "a = \"waleed\"\n",
    "print(a.upper())\n",
    "print(a)\n",
    "a = a.capitalize()\n",
    "a"
   ]
  },
  {
   "cell_type": "code",
   "execution_count": 73,
   "metadata": {},
   "outputs": [
    {
     "name": "stdout",
     "output_type": "stream",
     "text": [
      "waleed khan\n"
     ]
    },
    {
     "data": {
      "text/plain": [
       "'Waleed Khan'"
      ]
     },
     "execution_count": 73,
     "metadata": {},
     "output_type": "execute_result"
    }
   ],
   "source": [
    "a = \"waleed khan\"\n",
    "print(a)\n",
    "a = a.title()\n",
    "a"
   ]
  },
  {
   "cell_type": "code",
   "execution_count": 89,
   "metadata": {},
   "outputs": [
    {
     "name": "stdout",
     "output_type": "stream",
     "text": [
      "29\n",
      "            waled    khan    \n",
      "waled    khan    \n",
      "17\n",
      "            waled    khan\n",
      "25\n",
      "waled    khan\n",
      "13\n"
     ]
    }
   ],
   "source": [
    "a = \"            waled    khan    \"   \n",
    "print(len(a))\n",
    "\n",
    "print(a)\n",
    "\n",
    "print(a.lstrip())\n",
    "\n",
    "print(len(a.lstrip()))\n",
    "\n",
    "print(a.rstrip())\n",
    "\n",
    "print(len(a.rstrip()))\n",
    "\n",
    "print(a.strip())\n",
    "\n",
    "print(len(a.strip()))"
   ]
  },
  {
   "cell_type": "code",
   "execution_count": 94,
   "metadata": {},
   "outputs": [
    {
     "data": {
      "text/plain": [
       "['waled', 'khan']"
      ]
     },
     "execution_count": 94,
     "metadata": {},
     "output_type": "execute_result"
    }
   ],
   "source": [
    "b = a.split()\n",
    "b\n",
    "a.split()"
   ]
  },
  {
   "cell_type": "code",
   "execution_count": 99,
   "metadata": {},
   "outputs": [
    {
     "data": {
      "text/plain": [
       "'waled 1 khan'"
      ]
     },
     "execution_count": 99,
     "metadata": {},
     "output_type": "execute_result"
    }
   ],
   "source": [
    "#JOINING LIST ELEMENTS \n",
    "\" 1 \".join(b)\n"
   ]
  },
  {
   "cell_type": "code",
   "execution_count": 105,
   "metadata": {},
   "outputs": [
    {
     "name": "stdout",
     "output_type": "stream",
     "text": [
      "we are pakistani we love our country!\n",
      "we are pakistani we love our country!\n",
      "pakistani\n"
     ]
    }
   ],
   "source": [
    "                                         #SLICING\n",
    "#list[start:end:step]\n",
    "#tuple[start:end:step]\n",
    "#string[start:end:step]\n",
    "a = \"we are pakistani we love our country!\"\n",
    "print(a)\n",
    "\n",
    "print(a[::])\n",
    "\n",
    "print(a[7:16:])"
   ]
  },
  {
   "cell_type": "code",
   "execution_count": 107,
   "metadata": {},
   "outputs": [
    {
     "name": "stdout",
     "output_type": "stream",
     "text": [
      "we are pakistani we love our country!\n"
     ]
    },
    {
     "data": {
      "text/plain": [
       "7"
      ]
     },
     "execution_count": 107,
     "metadata": {},
     "output_type": "execute_result"
    }
   ],
   "source": [
    "print(a)\n",
    "a.index(\"pakistan\")"
   ]
  },
  {
   "cell_type": "code",
   "execution_count": 110,
   "metadata": {},
   "outputs": [
    {
     "name": "stdout",
     "output_type": "stream",
     "text": [
      "we are pakistani we love our country!\n"
     ]
    },
    {
     "data": {
      "text/plain": [
       "'pakistan'"
      ]
     },
     "execution_count": 110,
     "metadata": {},
     "output_type": "execute_result"
    }
   ],
   "source": [
    "print(a)\n",
    "a[a.index(\"pakistan\"):15]"
   ]
  },
  {
   "cell_type": "code",
   "execution_count": 112,
   "metadata": {},
   "outputs": [
    {
     "data": {
      "text/plain": [
       "'123123000123132'"
      ]
     },
     "execution_count": 112,
     "metadata": {},
     "output_type": "execute_result"
    }
   ],
   "source": [
    "a = \"1231230-as0da-s0dafoj1-23-132\"\n",
    "\"\".join(i for i in a if str.isnumeric(i))"
   ]
  },
  {
   "cell_type": "code",
   "execution_count": 114,
   "metadata": {},
   "outputs": [
    {
     "name": "stdout",
     "output_type": "stream",
     "text": [
      "\n",
      "BAHRIA UNIVERSITY ISLAMABAD\n",
      "name: waleed\n",
      "fname: hafeez\n",
      "Program: PIAIC\n",
      "\n"
     ]
    }
   ],
   "source": [
    "card = \"\"\"\n",
    "BAHRIA UNIVERSITY ISLAMABAD\n",
    "name: waleed\n",
    "fname: hafeez\n",
    "Program: PIAIC\n",
    "\"\"\"\n",
    "print(card)"
   ]
  },
  {
   "cell_type": "code",
   "execution_count": 119,
   "metadata": {},
   "outputs": [
    {
     "name": "stdout",
     "output_type": "stream",
     "text": [
      "\n",
      "BAHRIA UNIVERSITY ISLAMABAD\n",
      "name: waleed   \n",
      "fname:  hafeez \n",
      "Program: PIAIC\n",
      "age    : 20\n",
      "\n"
     ]
    }
   ],
   "source": [
    "name=\"waleed\"\n",
    "fname=\"hafeez\"\n",
    "program=\"PIAIC\"\n",
    "age = 20\n",
    "\n",
    "card = \"\"\"\n",
    "BAHRIA UNIVERSITY ISLAMABAD\n",
    "name: %s   \n",
    "fname:  %s \n",
    "Program: %s\n",
    "age    : %d\n",
    "\"\"\"\n",
    "print(card%(name,fname,program,age))\n",
    "# %d IS USED FOR INTEGER AND %f IS USED FOR FLOAT"
   ]
  },
  {
   "cell_type": "code",
   "execution_count": 124,
   "metadata": {},
   "outputs": [
    {
     "name": "stdout",
     "output_type": "stream",
     "text": [
      "\n",
      "BAHRIA UNIVERSITY ISLAMABAD\n",
      "name: waleed  \n",
      "fname:  hafeez\n",
      "Program: PIAIC\n",
      "age    : 20\n",
      "\n"
     ]
    }
   ],
   "source": [
    "name=\"waleed\"\n",
    "fname=\"hafeez\"\n",
    "program=\"PIAIC\"\n",
    "age = 20\n",
    "\n",
    "#THIS f IS SO IMPORTANT THIS IS SYNTAX\n",
    "card = f\"\"\"\n",
    "BAHRIA UNIVERSITY ISLAMABAD\n",
    "name: {name}  \n",
    "fname:  {fname}\n",
    "Program: {program}\n",
    "age    : {age}\n",
    "\"\"\"\n",
    "print(card)"
   ]
  },
  {
   "cell_type": "code",
   "execution_count": 126,
   "metadata": {},
   "outputs": [
    {
     "name": "stdout",
     "output_type": "stream",
     "text": [
      "\n",
      "BAHRIA UNIVERSITY ISLAMABAD\n",
      "name: waleed  \n",
      "fname:  hafeez\n",
      "Program: PIAIC\n",
      "age    : 20\n",
      "\n"
     ]
    }
   ],
   "source": [
    "name=\"waleed\"\n",
    "fname=\"hafeez\"\n",
    "program=\"PIAIC\"\n",
    "age = 20\n",
    "\n",
    "#THIS f IS SO IMPORTANT THIS IS SYNTAX\n",
    "card = \"\"\"\n",
    "BAHRIA UNIVERSITY ISLAMABAD\n",
    "name: {}  \n",
    "fname:  {}\n",
    "Program: {}\n",
    "age    : {}\n",
    "\"\"\"\n",
    "print(card.format(name,fname,program,age))"
   ]
  },
  {
   "cell_type": "code",
   "execution_count": 127,
   "metadata": {},
   "outputs": [
    {
     "name": "stdout",
     "output_type": "stream",
     "text": [
      "\n",
      "BAHRIA UNIVERSITY ISLAMABAD\n",
      "name: waleed  \n",
      "fname:  hafeez\n",
      "Program: PIAIC\n",
      "age    : 20\n",
      "\n"
     ]
    }
   ],
   "source": [
    "name=\"waleed\"\n",
    "fname=\"hafeez\"\n",
    "program=\"PIAIC\"\n",
    "age = 20\n",
    "\n",
    "#THIS f IS SO IMPORTANT THIS IS SYNTAX\n",
    "card = \"\"\"\n",
    "BAHRIA UNIVERSITY ISLAMABAD\n",
    "name: {a}  \n",
    "fname:  {b}\n",
    "Program: {c}\n",
    "age    : {d}\n",
    "\"\"\"\n",
    "print(card.format(a=name,b=fname,c=program,d=age))"
   ]
  },
  {
   "cell_type": "code",
   "execution_count": 141,
   "metadata": {},
   "outputs": [
    {
     "name": "stdout",
     "output_type": "stream",
     "text": [
      "Bahria University Islamabad \n",
      " Student Name: waleed\n",
      "Father Name:hafeez\n",
      "PROGRAM:PIAIC\n",
      "**********************************************\n",
      "Bahria University Islamabad \n",
      " Student Name: waleed\n",
      "Father Name:hafeez\n",
      "PROGRAM:PIAIC\n",
      "age:20\n"
     ]
    }
   ],
   "source": [
    "name = \"waleed\"\n",
    "fname = \"hafeez\"\n",
    "progra = \"PIAIC\"\n",
    "age : 20\n",
    "print(\"Bahria University Islamabad \\n Student Name: \"+name+\"\\nFather Name:\"+fname+\"\\nPROGRAM:\"+progra)\n",
    "print(\"**********************************************\")\n",
    "print(\"Bahria University Islamabad \\n Student Name: \"+name+\"\\nFather Name:\"+fname+\"\\nPROGRAM:\"+progra+\"\\nage:\"+str(age))\n"
   ]
  },
  {
   "cell_type": "code",
   "execution_count": null,
   "metadata": {},
   "outputs": [],
   "source": []
  }
 ],
 "metadata": {
  "kernelspec": {
   "display_name": "Python 3",
   "language": "python",
   "name": "python3"
  },
  "language_info": {
   "codemirror_mode": {
    "name": "ipython",
    "version": 3
   },
   "file_extension": ".py",
   "mimetype": "text/x-python",
   "name": "python",
   "nbconvert_exporter": "python",
   "pygments_lexer": "ipython3",
   "version": "3.7.4"
  }
 },
 "nbformat": 4,
 "nbformat_minor": 2
}
