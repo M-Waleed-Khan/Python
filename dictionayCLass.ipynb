{
 "cells": [
  {
   "cell_type": "code",
   "execution_count": 1,
   "metadata": {},
   "outputs": [
    {
     "name": "stdout",
     "output_type": "stream",
     "text": [
      "Keys: a,b,c\n",
      "Values: x,y,z\n",
      "{'a': 'x', 'b': 'y', 'c': 'z'}\n"
     ]
    }
   ],
   "source": [
    "l1 = input(\"Keys: \").split(\",\")\n",
    "l2 = input(\"Values: \").split(\",\")\n",
    "\n",
    "d1={}\n",
    "\n",
    "for i in range(len(l1)):\n",
    "    d1[l1[i]]=l2[i]\n",
    "print(d1)"
   ]
  },
  {
   "cell_type": "code",
   "execution_count": 2,
   "metadata": {},
   "outputs": [
    {
     "name": "stdout",
     "output_type": "stream",
     "text": [
      "Keys: a,b,c\n",
      "Values: x,y,z\n"
     ]
    },
    {
     "data": {
      "text/plain": [
       "{'a': 'x', 'b': 'y', 'c': 'z'}"
      ]
     },
     "execution_count": 2,
     "metadata": {},
     "output_type": "execute_result"
    }
   ],
   "source": [
    "l1 = input(\"Keys: \").split(\",\")\n",
    "l2 = input(\"Values: \").split(\",\")\n",
    "{l1[i]:l2[i] for i in range(len(l1))}"
   ]
  },
  {
   "cell_type": "code",
   "execution_count": 3,
   "metadata": {},
   "outputs": [
    {
     "name": "stdout",
     "output_type": "stream",
     "text": [
      "Keys: a,b,c\n",
      "Values: x,y,z\n"
     ]
    },
    {
     "data": {
      "text/plain": [
       "[('a', 'x'), ('b', 'y'), ('c', 'z')]"
      ]
     },
     "execution_count": 3,
     "metadata": {},
     "output_type": "execute_result"
    }
   ],
   "source": [
    "l1 = input(\"Keys: \").split(\",\")\n",
    "l2 = input(\"Values: \").split(\",\")\n",
    "list(zip(l1,l2))"
   ]
  },
  {
   "cell_type": "code",
   "execution_count": 4,
   "metadata": {},
   "outputs": [
    {
     "name": "stdout",
     "output_type": "stream",
     "text": [
      "Keys: a,b,c\n",
      "Values: x,y,z\n"
     ]
    },
    {
     "data": {
      "text/plain": [
       "{'a': 'x', 'b': 'y', 'c': 'z'}"
      ]
     },
     "execution_count": 4,
     "metadata": {},
     "output_type": "execute_result"
    }
   ],
   "source": [
    "l1 = input(\"Keys: \").split(\",\")\n",
    "l2 = input(\"Values: \").split(\",\")\n",
    "dict(zip(l1,l2\n",
    "        ))"
   ]
  },
  {
   "cell_type": "code",
   "execution_count": 8,
   "metadata": {},
   "outputs": [
    {
     "name": "stdout",
     "output_type": "stream",
     "text": [
      "enter id1693\n",
      "enter namewaleed\n",
      "enter skillskills,headshot\n",
      "{'id': '1693', 'name': 'waleed', 'skills': ['kills', 'headshot']}\n"
     ]
    }
   ],
   "source": [
    "d1 = {}\n",
    "d1[\"id\"]=input(\"enter id\")\n",
    "d1[\"name\"]=input(\"enter name\")\n",
    "d1[\"skills\"]=input(\"enter skills\").split(\",\")\n",
    "print(d1)"
   ]
  },
  {
   "cell_type": "code",
   "execution_count": 7,
   "metadata": {},
   "outputs": [
    {
     "name": "stdout",
     "output_type": "stream",
     "text": [
      "a 40,b 20,c 30,"
     ]
    }
   ],
   "source": [
    "d1={\"a\":40,\"b\":20,\"c\":30}\n",
    "for i in sorted(d1):\n",
    "    print(i,d1[i], end =\",\")"
   ]
  },
  {
   "cell_type": "code",
   "execution_count": 23,
   "metadata": {},
   "outputs": [
    {
     "name": "stdout",
     "output_type": "stream",
     "text": [
      "[('D', 'd', '3'), ('C', 'c', '2'), ('B', 'b', '1'), ('A', 'z', '0')]\n"
     ]
    }
   ],
   "source": [
    "d1= [('A','z','0'),\n",
    "     ('B','b','1'),\n",
    "     ('C','c','2'),\n",
    "     ('D','d','3')]\n",
    "def abc(x):\n",
    "    return x[2]\n",
    "\n",
    "print(sorted(d1,reverse=True,key=abc))"
   ]
  },
  {
   "cell_type": "code",
   "execution_count": 14,
   "metadata": {},
   "outputs": [],
   "source": [
    "#LAMBDA FUNCTION AYSA FUNCT JO 1 HE BAR ISTIMAL KARNA HO 1 HE JAGA ISTIMAL KARNA HO ISLIE USKO DEFINE NAHI KARNA PARTA\n",
    "\n"
   ]
  },
  {
   "cell_type": "code",
   "execution_count": 19,
   "metadata": {},
   "outputs": [
    {
     "data": {
      "text/plain": [
       "[('A', 'z', '0'), ('B', 'b', '1'), ('C', 'c', '2'), ('D', 'd', '3')]"
      ]
     },
     "execution_count": 19,
     "metadata": {},
     "output_type": "execute_result"
    }
   ],
   "source": [
    "d1= [('A','z','0'),\n",
    "     ('B','b','1'),\n",
    "     ('C','c','2'),\n",
    "     ('D','d','3')]\n",
    "sorted(d1,reverse=False,key=lambda x:x[2])"
   ]
  },
  {
   "cell_type": "code",
   "execution_count": 49,
   "metadata": {},
   "outputs": [
    {
     "data": {
      "text/plain": [
       "{'a': 1, 'b': 2, 'd': 3, 'c': 5}"
      ]
     },
     "execution_count": 49,
     "metadata": {},
     "output_type": "execute_result"
    }
   ],
   "source": [
    "d1= {\n",
    "    'a':1,\n",
    "    'c':5,\n",
    "    'b':2,\n",
    "    'd':3\n",
    "}\n",
    "list(d1.items())\n",
    "{k:v for k,v in sorted(d1.items(), key = lambda x:x[1], reverse=False)}"
   ]
  },
  {
   "cell_type": "code",
   "execution_count": null,
   "metadata": {},
   "outputs": [],
   "source": []
  }
 ],
 "metadata": {
  "kernelspec": {
   "display_name": "Python 3",
   "language": "python",
   "name": "python3"
  },
  "language_info": {
   "codemirror_mode": {
    "name": "ipython",
    "version": 3
   },
   "file_extension": ".py",
   "mimetype": "text/x-python",
   "name": "python",
   "nbconvert_exporter": "python",
   "pygments_lexer": "ipython3",
   "version": "3.7.4"
  }
 },
 "nbformat": 4,
 "nbformat_minor": 2
}
