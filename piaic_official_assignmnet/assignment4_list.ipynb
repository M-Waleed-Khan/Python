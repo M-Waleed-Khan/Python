{
 "cells": [
  {
   "cell_type": "code",
   "execution_count": 2,
   "metadata": {},
   "outputs": [],
   "source": [
    "# In[1]:\n",
    "# D. Given a list of numbers, return a list where\n",
    "# all adjacent == elements have been reduced to a single element,\n",
    "# so [1, 2, 2, 3] returns [1, 2, 3]. You may create a new list or\n",
    "# modify the passed in list.\n",
    "def remove_adjacent(nums):\n",
    "    numberList = []\n",
    "    for x in nums:\n",
    "        if x not in numberList:\n",
    "            numberList.append(x)\n",
    "    return numberList\n",
    "\n"
   ]
  },
  {
   "cell_type": "code",
   "execution_count": 3,
   "metadata": {},
   "outputs": [],
   "source": [
    "def linear_merge(list1, list2):\n",
    "    myList = list1 + list2\n",
    "    myList.sort()\n",
    "    return myList"
   ]
  },
  {
   "cell_type": "code",
   "execution_count": 4,
   "metadata": {},
   "outputs": [],
   "source": [
    "# Simple provided test() function used in main() to print\n",
    "# what each function returns vs. what it's supposed to return.\n",
    "def test(got, expected):\n",
    "    if got == expected:\n",
    "        prefix = ' OK '\n",
    "    else:\n",
    "        prefix = '  X '\n",
    "    print('%s got: %s expected: %s' % (prefix, repr(got), repr(expected)))\n",
    "\n"
   ]
  },
  {
   "cell_type": "code",
   "execution_count": 5,
   "metadata": {},
   "outputs": [
    {
     "name": "stdout",
     "output_type": "stream",
     "text": [
      "remove_adjacent\n",
      " OK  got: [1, 2, 3] expected: [1, 2, 3]\n",
      " OK  got: [2, 3] expected: [2, 3]\n",
      " OK  got: [] expected: []\n",
      "linear_merge\n",
      " OK  got: ['aa', 'bb', 'cc', 'xx', 'zz'] expected: ['aa', 'bb', 'cc', 'xx', 'zz']\n",
      " OK  got: ['aa', 'bb', 'cc', 'xx', 'zz'] expected: ['aa', 'bb', 'cc', 'xx', 'zz']\n",
      " OK  got: ['aa', 'aa', 'aa', 'bb', 'bb'] expected: ['aa', 'aa', 'aa', 'bb', 'bb']\n"
     ]
    }
   ],
   "source": [
    "# Calls the above functions with interesting inputs.\n",
    "print('remove_adjacent')\n",
    "test(remove_adjacent([1, 2, 2, 3]), [1, 2, 3])\n",
    "test(remove_adjacent([2, 2, 3, 3, 3]), [2, 3])\n",
    "test(remove_adjacent([]), [])\n",
    "print ('linear_merge')\n",
    "\n",
    "test(linear_merge(['aa', 'xx', 'zz'], ['bb', 'cc']),\n",
    "       ['aa', 'bb', 'cc', 'xx', 'zz'])\n",
    "test(linear_merge(['aa', 'xx'], ['bb', 'cc', 'zz']),\n",
    "       ['aa', 'bb', 'cc', 'xx', 'zz'])\n",
    "test(linear_merge(['aa', 'aa'], ['aa', 'bb', 'bb']),\n",
    "       ['aa', 'aa', 'aa', 'bb', 'bb'])\n",
    "\n",
    "\n"
   ]
  },
  {
   "cell_type": "code",
   "execution_count": null,
   "metadata": {},
   "outputs": [],
   "source": []
  }
 ],
 "metadata": {
  "kernelspec": {
   "display_name": "Python 3",
   "language": "python",
   "name": "python3"
  },
  "language_info": {
   "codemirror_mode": {
    "name": "ipython",
    "version": 3
   },
   "file_extension": ".py",
   "mimetype": "text/x-python",
   "name": "python",
   "nbconvert_exporter": "python",
   "pygments_lexer": "ipython3",
   "version": "3.7.4"
  }
 },
 "nbformat": 4,
 "nbformat_minor": 1
}
