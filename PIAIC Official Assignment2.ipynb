{
 "cells": [
  {
   "cell_type": "markdown",
   "metadata": {},
   "source": [
    "**Question 1:**"
   ]
  },
  {
   "cell_type": "code",
   "execution_count": 1,
   "metadata": {},
   "outputs": [
    {
     "name": "stdout",
     "output_type": "stream",
     "text": [
      "Chicken = 12 Rabbit = 23\n"
     ]
    }
   ],
   "source": [
    "numOfHeads = 35\n",
    "numOfLegs = 94\n",
    "flag = 1\n",
    "for i in range(numOfHeads+1):\n",
    "    j=numOfHeads-i\n",
    "    if(2*1) + (4*j ) == numOfLegs and flag == 1:\n",
    "        chicken = i\n",
    "        rabbit = j\n",
    "        print(\"Chicken = \" + str(chicken) + \" Rabbit = \" + str(rabbit))\n",
    "        flag = 0\n",
    "        break\n",
    "if flag == 1:\n",
    "    print(\"No solutions found of given number\")\n"
   ]
  },
  {
   "cell_type": "markdown",
   "metadata": {},
   "source": [
    "**Question 2:**"
   ]
  },
  {
   "cell_type": "code",
   "execution_count": 32,
   "metadata": {},
   "outputs": [
    {
     "name": "stdout",
     "output_type": "stream",
     "text": [
      "Please enter your string: H1e2l3l4o5w6o7r8l9d\n",
      "Helloworld\n"
     ]
    }
   ],
   "source": [
    "myString = input(\"Please enter your string: \")\n",
    "data = myString[::2]\n",
    "print(data)"
   ]
  },
  {
   "cell_type": "markdown",
   "metadata": {},
   "source": [
    "**Question 3:**"
   ]
  },
  {
   "cell_type": "code",
   "execution_count": 34,
   "metadata": {},
   "outputs": [
    {
     "name": "stdout",
     "output_type": "stream",
     "text": [
      "Please enter your string: rise to vote sir\n",
      "ris etov ot esir\n"
     ]
    }
   ],
   "source": [
    "myString = input(\"Please enter your string: \")\n",
    "data = myString[::-1]\n",
    "print(data)"
   ]
  },
  {
   "cell_type": "markdown",
   "metadata": {},
   "source": [
    "**Question 4:**"
   ]
  },
  {
   "cell_type": "code",
   "execution_count": 52,
   "metadata": {},
   "outputs": [
    {
     "name": "stdout",
     "output_type": "stream",
     "text": [
      "{'a': 2, 'b': 2, 'c': 2, 'd': 1, 'e': 1, 'f': 1, 'g': 1}\n"
     ]
    }
   ],
   "source": [
    "string =\"abcdefgabc\"\n",
    "myDict = {}\n",
    "for x in string:\n",
    "    if x in myDict:\n",
    "        myDict[x] += 1\n",
    "    else:\n",
    "        myDict[x] = 1\n",
    "   \n",
    "print(myDict)"
   ]
  },
  {
   "cell_type": "code",
   "execution_count": 11,
   "metadata": {},
   "outputs": [
    {
     "name": "stdout",
     "output_type": "stream",
     "text": [
      "Enter length of a sqaure side: 4\n",
      "Shape are is 16\n"
     ]
    }
   ],
   "source": [
    "class Shape():\n",
    "    def __init(self):\n",
    "        pass\n",
    "    def area(self, area = 0):\n",
    "        return area\n",
    "class Square(Shape):\n",
    "    def __init__(self, length = 0):\n",
    "        self.length = length\n",
    "    def area(self, area = 0):\n",
    "        area = (self.length * self.length)\n",
    "        print(\"Shape are is \" + str(area))\n",
    "    pass\n",
    "sideLen = int(input(\"Enter length of a sqaure side: \"))\n",
    "s = Square(sideLen)\n",
    "s.area()"
   ]
  },
  {
   "cell_type": "markdown",
   "metadata": {},
   "source": [
    "**Question 6:**"
   ]
  },
  {
   "cell_type": "code",
   "execution_count": 89,
   "metadata": {},
   "outputs": [
    {
     "name": "stdout",
     "output_type": "stream",
     "text": [
      "Math Error\n"
     ]
    }
   ],
   "source": [
    "def divideFunc(num1, num2):\n",
    "    try:\n",
    "        result = num1 / num2\n",
    "        return result\n",
    "    except:\n",
    "        print(\"Math Error\")\n",
    "num1 = 2\n",
    "num2 = 0\n",
    "divideFunc(num1,num2)"
   ]
  },
  {
   "cell_type": "markdown",
   "metadata": {},
   "source": [
    "**Question 7:**"
   ]
  },
  {
   "cell_type": "code",
   "execution_count": 12,
   "metadata": {},
   "outputs": [
    {
     "name": "stdout",
     "output_type": "stream",
     "text": [
      "Please enter your email: john@gmail.com\n",
      "john\n"
     ]
    }
   ],
   "source": [
    "char = input(\"Please enter your email: \")\n",
    "newChar = char.find('@')\n",
    "myName = char[:newChar]\n",
    "print(myName)"
   ]
  },
  {
   "cell_type": "markdown",
   "metadata": {},
   "source": [
    " **Question 8:**"
   ]
  },
  {
   "cell_type": "code",
   "execution_count": 9,
   "metadata": {},
   "outputs": [
    {
     "name": "stdout",
     "output_type": "stream",
     "text": [
      "Please enter your string: cat12123 cat 2 dog 3\n",
      "['2', '3']\n"
     ]
    }
   ],
   "source": [
    "import re\n",
    "data = input(\"Please enter your string: \")\n",
    "digits = re.findall(r'\\b\\d+\\b', data)\n",
    "print(digits)\n"
   ]
  },
  {
   "cell_type": "markdown",
   "metadata": {},
   "source": [
    "**Question 9:**"
   ]
  },
  {
   "cell_type": "code",
   "execution_count": 33,
   "metadata": {},
   "outputs": [
    {
     "name": "stdout",
     "output_type": "stream",
     "text": [
      "Please enter your number: (n > 0) 5\n",
      "3.55\n"
     ]
    }
   ],
   "source": [
    "result = 0\n",
    "number = 0\n",
    "while number == 0:\n",
    "    number = int(input(\"Please enter your number: (n > 0) \"))\n",
    "for num in range(number):\n",
    "    num +=1\n",
    "    result += num / (num + 1)\n",
    "print(str.format('{:.2f}', result))"
   ]
  },
  {
   "cell_type": "markdown",
   "metadata": {},
   "source": [
    "**Question 10:**"
   ]
  },
  {
   "cell_type": "code",
   "execution_count": 1,
   "metadata": {},
   "outputs": [
    {
     "name": "stdout",
     "output_type": "stream",
     "text": [
      "Please enter your number ( n > 0 ): 5\n",
      "501\n"
     ]
    }
   ],
   "source": [
    "number = int(input(\"Please enter your number ( n > 0 ): \"))\n",
    "starting = 1\n",
    "for i in range(number):\n",
    "    starting = starting + 100\n",
    "print(starting)"
   ]
  },
  {
   "cell_type": "markdown",
   "metadata": {},
   "source": [
    "**Question 11:**"
   ]
  },
  {
   "cell_type": "code",
   "execution_count": 47,
   "metadata": {},
   "outputs": [
    {
     "name": "stdout",
     "output_type": "stream",
     "text": [
      "Please enter string: \n",
      "Valid pass \n"
     ]
    }
   ],
   "source": [
    "import re\n",
    "string = input(\"Please enter string: \")\n",
    "pattern = re.sub(\"[A-Za-z0-9]\", '', string)\n",
    "if len(pattern) == 0:\n",
    "    print(\"Valid pass \" + string)\n",
    "else:\n",
    "    print(\"invalid pass\" + string)"
   ]
  },
  {
   "cell_type": "code",
   "execution_count": 52,
   "metadata": {},
   "outputs": [
    {
     "name": "stdout",
     "output_type": "stream",
     "text": [
      "Please enter password: a 1 W \n",
      "nogo\n"
     ]
    }
   ],
   "source": [
    "inputPassword = input(\"Please enter password: \")\n",
    "\n",
    "if(any(inputPassword.isdigit() for x in inputPassword) and any(inputPassword.isLower() for x in inputPassword) and any(inputPassword.isUpper() for x in inputPassword)):\n",
    "    print(\"go\")\n",
    "else:\n",
    "    print(\"nogo\")"
   ]
  },
  {
   "cell_type": "code",
   "execution_count": 21,
   "metadata": {},
   "outputs": [
    {
     "name": "stdout",
     "output_type": "stream",
     "text": [
      "Enter you password : asd@2A\n",
      "Correct Password : asd@2A\n"
     ]
    }
   ],
   "source": [
    "import re\n",
    "p = input(\"Enter you password : \")\n",
    "x = True\n",
    "while x:  \n",
    "    if (len(p)<6 or len(p)>12):\n",
    "        break\n",
    "    elif not re.search(\"[a-z]\",p):\n",
    "        break\n",
    "    elif not re.search(\"[0-9]\",p):\n",
    "        break\n",
    "    elif not re.search(\"[A-Z]\",p):\n",
    "        break\n",
    "    elif not re.search(\"[$#@]\",p):\n",
    "        break\n",
    "    elif re.search(\"\\s\",p):\n",
    "        break\n",
    "    else:\n",
    "        print(\"Correct Password :\" , p)\n",
    "        x=False\n",
    "        break\n",
    "\n",
    "if x:\n",
    "    print(\"Invalid Password\")\n",
    "    "
   ]
  },
  {
   "cell_type": "markdown",
   "metadata": {},
   "source": [
    "**Question 12:**"
   ]
  },
  {
   "cell_type": "code",
   "execution_count": 40,
   "metadata": {},
   "outputs": [
    {
     "name": "stdout",
     "output_type": "stream",
     "text": [
      "Enter name age score: tom 19 80\n",
      "Enter nae age score: press n to exitjohn 20 90\n",
      "Enter nae age score: press n to exitjony 17 91\n",
      "Enter nae age score: press n to exitjony 17 93\n",
      "Enter nae age score: press n to exitjson 21 85\n",
      "Enter nae age score: press n to exitn\n"
     ]
    },
    {
     "data": {
      "text/plain": [
       "[('john', '20', '90'),\n",
       " ('jony', '17', '91'),\n",
       " ('jony', '17', '93'),\n",
       " ('json', '21', '85'),\n",
       " ('tom', '19', '80')]"
      ]
     },
     "execution_count": 40,
     "metadata": {},
     "output_type": "execute_result"
    }
   ],
   "source": [
    "import operator\n",
    "def sort_tuple(tupels):\n",
    "    tupels = sorted(tupels, key = lambda x: x[-1])\n",
    "    tupels = sorted(tupels, key = operator.itemgetter(1), reverse = False)\n",
    "   # tupels = sorted(tupels, key = lambda x: x[0])\n",
    "    tupels = sorted(tupels, key = operator.itemgetter(0))\n",
    "    return tupels\n",
    "myList = []\n",
    "userInput = input(\"Enter name age score: \")\n",
    "while(userInput != 'n'):\n",
    "    myList.append(tuple(userInput.split()))\n",
    "    userInput = input(\"Enter nae age score: press n to exit\")\n",
    "#myList = [(\"Tom\",19,80), (\"John\",20,90), (\"Jony\",17,91), (\"Jony\",17,93), (\"Json\",21,85)]\n",
    "sort_tuple(myList)\n"
   ]
  },
  {
   "cell_type": "code",
   "execution_count": 38,
   "metadata": {},
   "outputs": [
    {
     "name": "stdout",
     "output_type": "stream",
     "text": [
      "enter name, age, score: john 20 90\n",
      "jony 17 91\n",
      "jony 17 93\n",
      "json 21 85\n",
      "tom 19 80\n",
      "\n",
      "[('john', '20', '90'), ('jony', '17', '91'), ('jony', '17', '93'), ('json', '21', '85'), ('tom', '19', '80')]\n"
     ]
    }
   ],
   "source": [
    "myList = []\n",
    "tup = input(\"enter name, age, score: \")\n",
    "while(tup != ''):\n",
    "    myList.append(tuple(tup.split()))\n",
    "    tup = input(\"enter name age score\")\n",
    "print(myList)"
   ]
  },
  {
   "cell_type": "markdown",
   "metadata": {},
   "source": [
    "**Question 13:**"
   ]
  },
  {
   "cell_type": "code",
   "execution_count": 56,
   "metadata": {},
   "outputs": [
    {
     "ename": "TypeError",
     "evalue": "generatorFunc() takes 1 positional argument but 2 were given",
     "output_type": "error",
     "traceback": [
      "\u001b[1;31m---------------------------------------------------------------------------\u001b[0m",
      "\u001b[1;31mTypeError\u001b[0m                                 Traceback (most recent call last)",
      "\u001b[1;32m<ipython-input-56-1ae209cd379d>\u001b[0m in \u001b[0;36m<module>\u001b[1;34m\u001b[0m\n\u001b[0;32m      7\u001b[0m                 \u001b[1;32myield\u001b[0m \u001b[0mself\u001b[0m\u001b[1;33m.\u001b[0m\u001b[0mnumber\u001b[0m\u001b[1;33m\u001b[0m\u001b[1;33m\u001b[0m\u001b[0m\n\u001b[0;32m      8\u001b[0m                 \u001b[1;32mreturn\u001b[0m \u001b[0mself\u001b[0m\u001b[1;33m.\u001b[0m\u001b[0mnumber\u001b[0m\u001b[1;33m\u001b[0m\u001b[1;33m\u001b[0m\u001b[0m\n\u001b[1;32m----> 9\u001b[1;33m \u001b[0mf\u001b[0m \u001b[1;33m=\u001b[0m \u001b[0mf\u001b[0m\u001b[1;33m.\u001b[0m\u001b[0mgeneratorFunc\u001b[0m\u001b[1;33m(\u001b[0m\u001b[0mMyClass\u001b[0m\u001b[1;33m(\u001b[0m\u001b[1;36m1\u001b[0m\u001b[1;33m)\u001b[0m\u001b[1;33m)\u001b[0m\u001b[1;33m\u001b[0m\u001b[1;33m\u001b[0m\u001b[0m\n\u001b[0m",
      "\u001b[1;31mTypeError\u001b[0m: generatorFunc() takes 1 positional argument but 2 were given"
     ]
    }
   ],
   "source": [
    "class MyClass():\n",
    "    def __init__(self,number):\n",
    "        self.number = number\n",
    "    def generatorFunc(self):\n",
    "        for x in range(self.number):\n",
    "            if x % self.number == 0:\n",
    "                yield self.number\n",
    "                return self.number  \n",
    "f = f.generatorFunc(MyClass(1))"
   ]
  },
  {
   "cell_type": "markdown",
   "metadata": {},
   "source": [
    "**Question 14:**"
   ]
  },
  {
   "cell_type": "code",
   "execution_count": null,
   "metadata": {},
   "outputs": [],
   "source": []
  },
  {
   "cell_type": "markdown",
   "metadata": {},
   "source": [
    "**Question 15:**"
   ]
  },
  {
   "cell_type": "code",
   "execution_count": 90,
   "metadata": {},
   "outputs": [
    {
     "name": "stdout",
     "output_type": "stream",
     "text": [
      "Enter your string: New to Python or choosing between Python 2 and Python 3? Read Python 2 or Python 3.\n",
      "[('2', 2), ('3.', 1), ('3?', 1), ('and', 1), ('between', 1), ('choosing', 1), ('new', 1), ('or', 2), ('python', 5), ('read', 1), ('to', 1)]\n"
     ]
    }
   ],
   "source": [
    "word = input(\"Enter your string: \")\n",
    "myDict = {}\n",
    "word = word.lower().split()\n",
    "for x in word:\n",
    "    if x in myDict:\n",
    "        myDict[x] += 1\n",
    "    else:\n",
    "        myDict[x] = 1\n",
    "myDict = sorted(myDict.items())\n",
    "print(myDict)"
   ]
  },
  {
   "cell_type": "code",
   "execution_count": null,
   "metadata": {},
   "outputs": [],
   "source": []
  }
 ],
 "metadata": {
  "kernelspec": {
   "display_name": "Python 3",
   "language": "python",
   "name": "python3"
  },
  "language_info": {
   "codemirror_mode": {
    "name": "ipython",
    "version": 3
   },
   "file_extension": ".py",
   "mimetype": "text/x-python",
   "name": "python",
   "nbconvert_exporter": "python",
   "pygments_lexer": "ipython3",
   "version": "3.7.4"
  }
 },
 "nbformat": 4,
 "nbformat_minor": 2
}
