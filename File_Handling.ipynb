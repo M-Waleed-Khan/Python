{
 "cells": [
  {
   "cell_type": "code",
   "execution_count": 1,
   "metadata": {},
   "outputs": [
    {
     "data": {
      "text/plain": [
       "'C:\\\\Users\\\\Waleed'"
      ]
     },
     "execution_count": 1,
     "metadata": {},
     "output_type": "execute_result"
    }
   ],
   "source": [
    "%pwd"
   ]
  },
  {
   "cell_type": "code",
   "execution_count": null,
   "metadata": {},
   "outputs": [],
   "source": [
    "# %load C:\\\\Users\\\\Waleed\\a.py\n"
   ]
  },
  {
   "cell_type": "code",
   "execution_count": null,
   "metadata": {},
   "outputs": [],
   "source": [
    "# %load a.py\n"
   ]
  },
  {
   "cell_type": "code",
   "execution_count": 5,
   "metadata": {},
   "outputs": [],
   "source": [
    "# %load abc.txt\n"
   ]
  },
  {
   "cell_type": "code",
   "execution_count": null,
   "metadata": {},
   "outputs": [],
   "source": [
    "# %load abc.txt\n",
    "this is abc text file"
   ]
  },
  {
   "cell_type": "code",
   "execution_count": null,
   "metadata": {},
   "outputs": [],
   "source": [
    "###ABSOLUTE PATH\n",
    "# %load C:\\\\Users\\\\Waleed\\abc.txt\n",
    "this is abc text file"
   ]
  },
  {
   "cell_type": "code",
   "execution_count": 18,
   "metadata": {},
   "outputs": [],
   "source": [
    "###RELATIVE PATH\n",
    "# %load aa/a.py\n"
   ]
  },
  {
   "cell_type": "code",
   "execution_count": null,
   "metadata": {},
   "outputs": [],
   "source": [
    "# %load ../bb/a.py\n"
   ]
  },
  {
   "cell_type": "code",
   "execution_count": 19,
   "metadata": {},
   "outputs": [
    {
     "data": {
      "text/plain": [
       "<_io.TextIOWrapper name='abc.txt' mode='r' encoding='cp1252'>"
      ]
     },
     "execution_count": 19,
     "metadata": {},
     "output_type": "execute_result"
    }
   ],
   "source": [
    "open('abc.txt')"
   ]
  },
  {
   "cell_type": "code",
   "execution_count": 20,
   "metadata": {},
   "outputs": [
    {
     "data": {
      "text/plain": [
       "['this is abc text file']"
      ]
     },
     "execution_count": 20,
     "metadata": {},
     "output_type": "execute_result"
    }
   ],
   "source": [
    "list(open('abc.txt'))"
   ]
  },
  {
   "cell_type": "code",
   "execution_count": 2,
   "metadata": {},
   "outputs": [
    {
     "name": "stdout",
     "output_type": "stream",
     "text": [
      "this is abc text file\n"
     ]
    }
   ],
   "source": [
    "data = open('abc.txt')\n",
    "for row in data:\n",
    "    print(row)\n",
    "data.close()"
   ]
  },
  {
   "cell_type": "code",
   "execution_count": 9,
   "metadata": {},
   "outputs": [
    {
     "name": "stdout",
     "output_type": "stream",
     "text": [
      "<class 'str'>\n",
      "this is abc text file line 1 \n",
      "this is abc text file line 2\n",
      "this is abc text file line 3 \n"
     ]
    }
   ],
   "source": [
    "#with open(file) as <variable> no need to close, file auto closed outside of with block\n",
    "with open('abc.txt', mode='r') as f:\n",
    "    content = f.read()\n",
    "    print(type(content))\n",
    "    print(content)"
   ]
  },
  {
   "cell_type": "code",
   "execution_count": 7,
   "metadata": {},
   "outputs": [
    {
     "name": "stdout",
     "output_type": "stream",
     "text": [
      "<class 'str'>\n",
      "this is abc text file line 1 \n",
      "\n"
     ]
    }
   ],
   "source": [
    "#with open(file) as <variable>\n",
    "with open('abc.txt', mode='r') as f:\n",
    "    content = f.readline()\n",
    "    print(type(content))\n",
    "    print(content)"
   ]
  },
  {
   "cell_type": "code",
   "execution_count": 8,
   "metadata": {},
   "outputs": [
    {
     "name": "stdout",
     "output_type": "stream",
     "text": [
      "<class 'list'>\n",
      "['this is abc text file line 1 \\n', 'this is abc text file line 2\\n', 'this is abc text file line 3 ']\n"
     ]
    }
   ],
   "source": [
    "#with open(file) as <variable>\n",
    "with open('abc.txt', mode='r') as f:\n",
    "    content = f.readlines()\n",
    "    print(type(content))\n",
    "    print(content)"
   ]
  },
  {
   "cell_type": "code",
   "execution_count": 11,
   "metadata": {},
   "outputs": [],
   "source": [
    "#with open(file) as <variable>\n",
    "with open('abc1.txt', mode='w') as f:\n",
    "    f.write(\"pakistan zindabad \\n This is second line\")"
   ]
  },
  {
   "cell_type": "code",
   "execution_count": 12,
   "metadata": {},
   "outputs": [
    {
     "name": "stdout",
     "output_type": "stream",
     "text": [
      "<class 'str'>\n",
      "pakistan zindabad \n",
      " This is second line\n"
     ]
    }
   ],
   "source": [
    "#with open(file) as <variable> no need to close, file auto closed outside of with block\n",
    "with open('abc1.txt', mode='r') as f:\n",
    "    content = f.read()\n",
    "    print(type(content))\n",
    "    print(content)"
   ]
  },
  {
   "cell_type": "code",
   "execution_count": 13,
   "metadata": {},
   "outputs": [],
   "source": [
    "#with open(file) as <variable>\n",
    "with open('abc1.txt', mode='w') as f:\n",
    "    f.write(\"this is latest line due to truncate all data is deleted\")"
   ]
  },
  {
   "cell_type": "code",
   "execution_count": 14,
   "metadata": {},
   "outputs": [
    {
     "name": "stdout",
     "output_type": "stream",
     "text": [
      "<class 'str'>\n",
      "this is latest line due to truncate all data is deleted\n"
     ]
    }
   ],
   "source": [
    "#with open(file) as <variable> no need to close, file auto closed outside of with block\n",
    "with open('abc1.txt', mode='r') as f:\n",
    "    content = f.read()\n",
    "    print(type(content))\n",
    "    print(content)"
   ]
  },
  {
   "cell_type": "code",
   "execution_count": 20,
   "metadata": {},
   "outputs": [],
   "source": [
    "#with open(file) as <variable>\n",
    "with open('abc1.txt', mode='a') as f:\n",
    "    f.write(\"\\nthis is second line added without deleting old data\\n\")"
   ]
  },
  {
   "cell_type": "code",
   "execution_count": 21,
   "metadata": {},
   "outputs": [],
   "source": [
    "#with open(file) as <variable>\n",
    "with open('abc1.txt', mode='a') as f:\n",
    "    f.write(\"waleed\\n\")"
   ]
  },
  {
   "cell_type": "code",
   "execution_count": 22,
   "metadata": {},
   "outputs": [],
   "source": [
    "#with open(file) as <variable>\n",
    "with open('abc1.txt', mode='a') as f:\n",
    "    f.write(\"hamza\\n\")"
   ]
  },
  {
   "cell_type": "code",
   "execution_count": 24,
   "metadata": {},
   "outputs": [
    {
     "name": "stdout",
     "output_type": "stream",
     "text": [
      "this is latest line due to truncate all data is deletedthis is second line added without deleting old data\n",
      "waleed\n",
      "hamza\n",
      "\n",
      "this is second line added without deleting old data\n",
      "waleed\n",
      "hamza\n",
      "\n"
     ]
    }
   ],
   "source": [
    "with open('abc1.txt' , mode='r') as f:\n",
    "    content = f.read()\n",
    "    print(content)"
   ]
  },
  {
   "cell_type": "code",
   "execution_count": 25,
   "metadata": {},
   "outputs": [
    {
     "name": "stdout",
     "output_type": "stream",
     "text": [
      "hamza\n",
      "zain\n",
      "waleed\n",
      "\n"
     ]
    }
   ],
   "source": [
    "with open('abc3.txt', mode='a+') as f:\n",
    "    f.write(\"hamza\\n\")\n",
    "    f.write(\"zain\\n\")\n",
    "    f.write(\"waleed\\n\")\n",
    "    f.seek(0)\n",
    "    print(f.read())"
   ]
  },
  {
   "cell_type": "code",
   "execution_count": 26,
   "metadata": {},
   "outputs": [],
   "source": [
    "with open('abc3.txt', 'w') as f:\n",
    "    f.write(\"[1,2,3]\")"
   ]
  },
  {
   "cell_type": "code",
   "execution_count": 39,
   "metadata": {},
   "outputs": [
    {
     "name": "stdout",
     "output_type": "stream",
     "text": [
      "[]\n",
      "[]\n",
      "['C', 'B', 'A']\n"
     ]
    }
   ],
   "source": [
    "my_list = ['A','B','C']\n",
    "with open('abc3.txt', 'r+') as f:\n",
    "    content = f.readlines()\n",
    "    print(content)\n",
    "    content.reverse()\n",
    "    print(content)\n",
    "    my_list.reverse()\n",
    "    content += my_list\n",
    "    f.write(str(content))\n",
    "    f.seek(0)\n",
    "    print(content)"
   ]
  },
  {
   "cell_type": "code",
   "execution_count": 48,
   "metadata": {},
   "outputs": [
    {
     "name": "stdout",
     "output_type": "stream",
     "text": [
      "['C', 'B', 'A', '3', '2\\n', '1\\n']\n"
     ]
    }
   ],
   "source": [
    "with open('abc3.txt' , 'r+') as f:\n",
    "    a = list(reversed(f.readlines()))\n",
    "    b = list(reversed(['A','B','C']))\n",
    "    c = b + a\n",
    "    f.seek(0)\n",
    "    f.write(str(c))\n",
    "    print(c)"
   ]
  },
  {
   "cell_type": "code",
   "execution_count": 51,
   "metadata": {},
   "outputs": [
    {
     "name": "stdout",
     "output_type": "stream",
     "text": [
      "(357, 283, 3)\n"
     ]
    },
    {
     "data": {
      "text/plain": [
       "<matplotlib.image.AxesImage at 0x1152c527088>"
      ]
     },
     "execution_count": 51,
     "metadata": {},
     "output_type": "execute_result"
    },
    {
     "data": {
      "image/png": "[encoded data removed]",
      "text/plain": [
       "<Figure size 432x288 with 1 Axes>"
      ]
     },
     "metadata": {
      "needs_background": "light"
     },
     "output_type": "display_data"
    }
   ],
   "source": [
    "import matplotlib.pyplot as plt\n",
    "import matplotlib.image as mpimg\n",
    "\n",
    "img=mpimg.imread('my_image.jpg')\n",
    "print(img.shape)\n",
    "plt.imshow(img)"
   ]
  },
  {
   "cell_type": "code",
   "execution_count": 52,
   "metadata": {},
   "outputs": [
    {
     "name": "stdout",
     "output_type": "stream",
     "text": [
      "(357, 283, 3)\n"
     ]
    },
    {
     "data": {
      "text/plain": [
       "<matplotlib.image.AxesImage at 0x1152d615f88>"
      ]
     },
     "execution_count": 52,
     "metadata": {},
     "output_type": "execute_result"
    },
    {
     "data": {
      "image/png": "[encoded data removed]",
      "text/plain": [
       "<Figure size 432x288 with 1 Axes>"
      ]
     },
     "metadata": {
      "needs_background": "light"
     },
     "output_type": "display_data"
    }
   ],
   "source": [
    "import matplotlib.pyplot as plt\n",
    "import matplotlib.image as mpimg\n",
    "\n",
    "img=mpimg.imread('my_image.jpg')\n",
    "print(img.shape)\n",
    "\n",
    "plt.imshow(img)"
   ]
  },
  {
   "cell_type": "code",
   "execution_count": 53,
   "metadata": {},
   "outputs": [
    {
     "data": {
      "text/html": [
       "<div>\n",
       "<style scoped>\n",
       "    .dataframe tbody tr th:only-of-type {\n",
       "        vertical-align: middle;\n",
       "    }\n",
       "\n",
       "    .dataframe tbody tr th {\n",
       "        vertical-align: top;\n",
       "    }\n",
       "\n",
       "    .dataframe thead th {\n",
       "        text-align: right;\n",
       "    }\n",
       "</style>\n",
       "<table border=\"1\" class=\"dataframe\">\n",
       "  <thead>\n",
       "    <tr style=\"text-align: right;\">\n",
       "      <th></th>\n",
       "      <th>Name</th>\n",
       "      <th>Given Name</th>\n",
       "      <th>Additional Name</th>\n",
       "      <th>Family Name</th>\n",
       "      <th>Yomi Name</th>\n",
       "      <th>Given Name Yomi</th>\n",
       "      <th>Additional Name Yomi</th>\n",
       "      <th>Family Name Yomi</th>\n",
       "      <th>Name Prefix</th>\n",
       "      <th>Name Suffix</th>\n",
       "      <th>...</th>\n",
       "      <th>Address 1 - Country</th>\n",
       "      <th>Address 1 - Extended Address</th>\n",
       "      <th>Organization 1 - Type</th>\n",
       "      <th>Organization 1 - Name</th>\n",
       "      <th>Organization 1 - Yomi Name</th>\n",
       "      <th>Organization 1 - Title</th>\n",
       "      <th>Organization 1 - Department</th>\n",
       "      <th>Organization 1 - Symbol</th>\n",
       "      <th>Organization 1 - Location</th>\n",
       "      <th>Organization 1 - Job Description</th>\n",
       "    </tr>\n",
       "  </thead>\n",
       "  <tbody>\n",
       "    <tr>\n",
       "      <td>0</td>\n",
       "      <td>03355966989</td>\n",
       "      <td>03355966989</td>\n",
       "      <td>NaN</td>\n",
       "      <td>NaN</td>\n",
       "      <td>NaN</td>\n",
       "      <td>NaN</td>\n",
       "      <td>NaN</td>\n",
       "      <td>NaN</td>\n",
       "      <td>NaN</td>\n",
       "      <td>NaN</td>\n",
       "      <td>...</td>\n",
       "      <td>NaN</td>\n",
       "      <td>NaN</td>\n",
       "      <td>NaN</td>\n",
       "      <td>NaN</td>\n",
       "      <td>NaN</td>\n",
       "      <td>NaN</td>\n",
       "      <td>NaN</td>\n",
       "      <td>NaN</td>\n",
       "      <td>NaN</td>\n",
       "      <td>NaN</td>\n",
       "    </tr>\n",
       "    <tr>\n",
       "      <td>1</td>\n",
       "      <td>3in1</td>\n",
       "      <td>3in1</td>\n",
       "      <td>NaN</td>\n",
       "      <td>NaN</td>\n",
       "      <td>NaN</td>\n",
       "      <td>NaN</td>\n",
       "      <td>NaN</td>\n",
       "      <td>NaN</td>\n",
       "      <td>NaN</td>\n",
       "      <td>NaN</td>\n",
       "      <td>...</td>\n",
       "      <td>NaN</td>\n",
       "      <td>NaN</td>\n",
       "      <td>NaN</td>\n",
       "      <td>NaN</td>\n",
       "      <td>NaN</td>\n",
       "      <td>NaN</td>\n",
       "      <td>NaN</td>\n",
       "      <td>NaN</td>\n",
       "      <td>NaN</td>\n",
       "      <td>NaN</td>\n",
       "    </tr>\n",
       "    <tr>\n",
       "      <td>2</td>\n",
       "      <td>401 Bakers</td>\n",
       "      <td>401 Bakers</td>\n",
       "      <td>NaN</td>\n",
       "      <td>NaN</td>\n",
       "      <td>NaN</td>\n",
       "      <td>NaN</td>\n",
       "      <td>NaN</td>\n",
       "      <td>NaN</td>\n",
       "      <td>NaN</td>\n",
       "      <td>NaN</td>\n",
       "      <td>...</td>\n",
       "      <td>NaN</td>\n",
       "      <td>NaN</td>\n",
       "      <td>NaN</td>\n",
       "      <td>NaN</td>\n",
       "      <td>NaN</td>\n",
       "      <td>NaN</td>\n",
       "      <td>NaN</td>\n",
       "      <td>NaN</td>\n",
       "      <td>NaN</td>\n",
       "      <td>NaN</td>\n",
       "    </tr>\n",
       "    <tr>\n",
       "      <td>3</td>\n",
       "      <td>AA Laptop Repairing</td>\n",
       "      <td>AA</td>\n",
       "      <td>NaN</td>\n",
       "      <td>Laptop Repairing</td>\n",
       "      <td>NaN</td>\n",
       "      <td>NaN</td>\n",
       "      <td>NaN</td>\n",
       "      <td>NaN</td>\n",
       "      <td>NaN</td>\n",
       "      <td>NaN</td>\n",
       "      <td>...</td>\n",
       "      <td>NaN</td>\n",
       "      <td>NaN</td>\n",
       "      <td>NaN</td>\n",
       "      <td>NaN</td>\n",
       "      <td>NaN</td>\n",
       "      <td>NaN</td>\n",
       "      <td>NaN</td>\n",
       "      <td>NaN</td>\n",
       "      <td>NaN</td>\n",
       "      <td>NaN</td>\n",
       "    </tr>\n",
       "    <tr>\n",
       "      <td>4</td>\n",
       "      <td>Abdul Manan Abasyn</td>\n",
       "      <td>Abdul</td>\n",
       "      <td>NaN</td>\n",
       "      <td>Manan Abasyn</td>\n",
       "      <td>NaN</td>\n",
       "      <td>NaN</td>\n",
       "      <td>NaN</td>\n",
       "      <td>NaN</td>\n",
       "      <td>NaN</td>\n",
       "      <td>NaN</td>\n",
       "      <td>...</td>\n",
       "      <td>NaN</td>\n",
       "      <td>NaN</td>\n",
       "      <td>NaN</td>\n",
       "      <td>NaN</td>\n",
       "      <td>NaN</td>\n",
       "      <td>NaN</td>\n",
       "      <td>NaN</td>\n",
       "      <td>NaN</td>\n",
       "      <td>NaN</td>\n",
       "      <td>NaN</td>\n",
       "    </tr>\n",
       "  </tbody>\n",
       "</table>\n",
       "<p>5 rows × 52 columns</p>\n",
       "</div>"
      ],
      "text/plain": [
       "                  Name   Given Name Additional Name       Family Name  \\\n",
       "0          03355966989  03355966989             NaN               NaN   \n",
       "1                 3in1         3in1             NaN               NaN   \n",
       "2           401 Bakers   401 Bakers             NaN               NaN   \n",
       "3  AA Laptop Repairing           AA             NaN  Laptop Repairing   \n",
       "4   Abdul Manan Abasyn        Abdul             NaN      Manan Abasyn   \n",
       "\n",
       "   Yomi Name  Given Name Yomi  Additional Name Yomi  Family Name Yomi  \\\n",
       "0        NaN              NaN                   NaN               NaN   \n",
       "1        NaN              NaN                   NaN               NaN   \n",
       "2        NaN              NaN                   NaN               NaN   \n",
       "3        NaN              NaN                   NaN               NaN   \n",
       "4        NaN              NaN                   NaN               NaN   \n",
       "\n",
       "   Name Prefix  Name Suffix  ...  Address 1 - Country  \\\n",
       "0          NaN          NaN  ...                  NaN   \n",
       "1          NaN          NaN  ...                  NaN   \n",
       "2          NaN          NaN  ...                  NaN   \n",
       "3          NaN          NaN  ...                  NaN   \n",
       "4          NaN          NaN  ...                  NaN   \n",
       "\n",
       "  Address 1 - Extended Address  Organization 1 - Type  Organization 1 - Name  \\\n",
       "0                          NaN                    NaN                    NaN   \n",
       "1                          NaN                    NaN                    NaN   \n",
       "2                          NaN                    NaN                    NaN   \n",
       "3                          NaN                    NaN                    NaN   \n",
       "4                          NaN                    NaN                    NaN   \n",
       "\n",
       "   Organization 1 - Yomi Name  Organization 1 - Title  \\\n",
       "0                         NaN                     NaN   \n",
       "1                         NaN                     NaN   \n",
       "2                         NaN                     NaN   \n",
       "3                         NaN                     NaN   \n",
       "4                         NaN                     NaN   \n",
       "\n",
       "   Organization 1 - Department  Organization 1 - Symbol  \\\n",
       "0                          NaN                      NaN   \n",
       "1                          NaN                      NaN   \n",
       "2                          NaN                      NaN   \n",
       "3                          NaN                      NaN   \n",
       "4                          NaN                      NaN   \n",
       "\n",
       "   Organization 1 - Location  Organization 1 - Job Description  \n",
       "0                        NaN                               NaN  \n",
       "1                        NaN                               NaN  \n",
       "2                        NaN                               NaN  \n",
       "3                        NaN                               NaN  \n",
       "4                        NaN                               NaN  \n",
       "\n",
       "[5 rows x 52 columns]"
      ]
     },
     "execution_count": 53,
     "metadata": {},
     "output_type": "execute_result"
    }
   ],
   "source": [
    "import pandas as pd\n",
    "df = pd.read_csv(\"contacts.csv\")\n",
    "df.head()"
   ]
  },
  {
   "cell_type": "code",
   "execution_count": null,
   "metadata": {},
   "outputs": [],
   "source": []
  }
 ],
 "metadata": {
  "kernelspec": {
   "display_name": "Python 3",
   "language": "python",
   "name": "python3"
  },
  "language_info": {
   "codemirror_mode": {
    "name": "ipython",
    "version": 3
   },
   "file_extension": ".py",
   "mimetype": "text/x-python",
   "name": "python",
   "nbconvert_exporter": "python",
   "pygments_lexer": "ipython3",
   "version": "3.7.4"
  }
 },
 "nbformat": 4,
 "nbformat_minor": 2
}
