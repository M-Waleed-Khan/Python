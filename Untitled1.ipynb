{
 "cells": [
  {
   "cell_type": "code",
   "execution_count": 30,
   "metadata": {},
   "outputs": [],
   "source": [
    "class Student():\n",
    "    def __init__(self,sid,name,fname,age):\n",
    "        self.sid = sid\n",
    "        self.name = name\n",
    "        self.fname = fname\n",
    "        self.age = age\n",
    "        \n",
    "    def login(self,user,password):\n",
    "        self.name = user\n",
    "        print(\"Welcome!\", self.name)\n",
    "    \n",
    "    def logout(self):pass\n",
    "    def quiz_attempt(self):pass"
   ]
  },
  {
   "cell_type": "code",
   "execution_count": 31,
   "metadata": {},
   "outputs": [],
   "source": [
    "s1 = Student(1, \"Ali\",\"waleed\",20)"
   ]
  },
  {
   "cell_type": "code",
   "execution_count": 32,
   "metadata": {},
   "outputs": [
    {
     "data": {
      "text/plain": [
       "'Ali'"
      ]
     },
     "execution_count": 32,
     "metadata": {},
     "output_type": "execute_result"
    }
   ],
   "source": [
    "s1.name"
   ]
  },
  {
   "cell_type": "code",
   "execution_count": 33,
   "metadata": {},
   "outputs": [
    {
     "name": "stdout",
     "output_type": "stream",
     "text": [
      "Welcome! Ali\n"
     ]
    }
   ],
   "source": [
    "s1.login(\"Ali\",\"aso12po\")"
   ]
  },
  {
   "cell_type": "code",
   "execution_count": 46,
   "metadata": {},
   "outputs": [
    {
     "data": {
      "text/plain": [
       "3"
      ]
     },
     "execution_count": 46,
     "metadata": {},
     "output_type": "execute_result"
    }
   ],
   "source": [
    "class A():\n",
    "    counter  = 0\n",
    "    \n",
    "    def __init__(self):\n",
    "        self.id= A.counter + 1\n",
    "        self.name = \"\"\n",
    "        self.fname = \"\"\n",
    "        #A is class name\n",
    "        A.counter += 1 # update class variable\n",
    "\n",
    "obj1 = A()\n",
    "obj2 = A()\n",
    "obj3 = A()\n",
    "\n",
    "obj1.counter #caling class variables with obj ref\n",
    "A.counter #calling class variables woth obj ref"
   ]
  },
  {
   "cell_type": "code",
   "execution_count": 47,
   "metadata": {},
   "outputs": [
    {
     "name": "stdout",
     "output_type": "stream",
     "text": [
      "1 2 3\n"
     ]
    }
   ],
   "source": [
    "print(obj1.id,obj2.id,obj3.id)"
   ]
  },
  {
   "cell_type": "code",
   "execution_count": 49,
   "metadata": {},
   "outputs": [],
   "source": [
    "class Parent():\n",
    "    def __init__(this):\n",
    "        this.id= 1\n",
    "        this.name = \"\"\n",
    "        this.dob = 0\n",
    "    def speak(this, words):\n",
    "        print(words,\"!\")\n",
    "    def eat(this,food):\n",
    "        print(\"having\",food)\n",
    "    def listing(this):\n",
    "        print(\"Listing...\")\n",
    "\n",
    "class Child(Parent):\n",
    "    pass\n",
    "obj_P = Parent()\n",
    "obj_C = Child()"
   ]
  },
  {
   "cell_type": "code",
   "execution_count": 68,
   "metadata": {},
   "outputs": [],
   "source": [
    "class Father():\n",
    "    def __init__(this):\n",
    "        this.name = \"\"\n",
    "        this.age = \"\"\n",
    "    def speak(this,words):\n",
    "        print(words,\"!\")\n",
    "    def job(this,jobname):\n",
    "        print(jobname,\"!\")\n",
    "        \n",
    "class Mother():\n",
    "    def __init__(this):\n",
    "        this.name = \"\"\n",
    "        this.age = \"\"\n",
    "    def speak(this,words):\n",
    "        print(words,\"!\")\n",
    "    def cookFood(this,food):\n",
    "        print(\"cooking\",food)\n",
    "              \n",
    "            #####      MULTIPLE INHERITANCE #########\n",
    "        \n",
    "class Child(Father,Mother):\n",
    "    pass\n",
    "\n",
    "obj_child = Child()\n"
   ]
  },
  {
   "cell_type": "code",
   "execution_count": 69,
   "metadata": {},
   "outputs": [
    {
     "name": "stdout",
     "output_type": "stream",
     "text": [
      "cooking Biryani\n"
     ]
    }
   ],
   "source": [
    "obj_Child.cookFood(\"Biryani\")"
   ]
  },
  {
   "cell_type": "code",
   "execution_count": 71,
   "metadata": {},
   "outputs": [
    {
     "name": "stdout",
     "output_type": "stream",
     "text": [
      "3\n",
      "14\n"
     ]
    }
   ],
   "source": [
    "##METHOD.FUNCTION OVERLAODING\n",
    "\n",
    "class ABC():\n",
    "    def pl(self,*c):\n",
    "        print(sum(c))\n",
    "        \n",
    "obj = ABC()\n",
    "obj.pl(1,2)\n",
    "obj.pl(2,3,4,5)\n"
   ]
  },
  {
   "cell_type": "code",
   "execution_count": 75,
   "metadata": {},
   "outputs": [
    {
     "name": "stdout",
     "output_type": "stream",
     "text": [
      "5\n",
      "9\n"
     ]
    }
   ],
   "source": [
    "#OPERATOR OVERLOADING \n",
    "class Abc():\n",
    "    def __init__(self,x,y):\n",
    "        self.x = x\n",
    "        self.y = y\n",
    "    def __add__(self,other):\n",
    "        print(self.x + other.x)\n",
    "        print(self.y + other.y)\n",
    "        \n",
    "o1 = Abc(2,4)\n",
    "o2 = Abc(3,5)\n",
    "\n",
    "o1 + o2 "
   ]
  },
  {
   "cell_type": "code",
   "execution_count": 80,
   "metadata": {},
   "outputs": [
    {
     "name": "stdout",
     "output_type": "stream",
     "text": [
      "Parent a..\n",
      "Child b..\n",
      "Parent c..\n"
     ]
    }
   ],
   "source": [
    "##    OVER RIDING\n",
    "\n",
    "class Parent():\n",
    "    def a(self):print(\"Parent a..\")\n",
    "    def b(self):print(\"Parent b..\")\n",
    "    def c(self):print(\"Parent c..\")\n",
    "\n",
    "class Child(Parent):\n",
    "    def b(self):print(\"Child b..\")\n",
    "\n",
    "obj1 = Child()\n",
    "obj1.a()\n",
    "obj1.b()\n",
    "obj1.c()"
   ]
  },
  {
   "cell_type": "code",
   "execution_count": null,
   "metadata": {},
   "outputs": [],
   "source": []
  }
 ],
 "metadata": {
  "kernelspec": {
   "display_name": "Python 3",
   "language": "python",
   "name": "python3"
  },
  "language_info": {
   "codemirror_mode": {
    "name": "ipython",
    "version": 3
   },
   "file_extension": ".py",
   "mimetype": "text/x-python",
   "name": "python",
   "nbconvert_exporter": "python",
   "pygments_lexer": "ipython3",
   "version": "3.7.4"
  }
 },
 "nbformat": 4,
 "nbformat_minor": 2
}
