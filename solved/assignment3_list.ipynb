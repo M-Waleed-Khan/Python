{
 "cells": [
  {
   "cell_type": "code",
   "execution_count": 4,
   "metadata": {},
   "outputs": [
    {
     "data": {
      "text/plain": [
       "2"
      ]
     },
     "execution_count": 4,
     "metadata": {},
     "output_type": "execute_result"
    }
   ],
   "source": [
    "# In[1]:\n",
    "# A. match_ends\n",
    "# Given a list of strings, return the count of the number of\n",
    "# strings where the string length is 2 or more and the first\n",
    "# and last chars of the string are the same.\n",
    "# Note: python does not have a ++ operator, but += works.\n",
    "words = ['waleed', 'zain', 'aa', 'evie']\n",
    "def match_ends(words):\n",
    "    counter = 0\n",
    "  # +++your code here+++\n",
    "    for x in words:\n",
    "        if len(x) >= 2 and x[0] == x[-1]:\n",
    "            counter += 1\n",
    "    return counter\n",
    "match_ends(words)\n",
    "\n"
   ]
  },
  {
   "cell_type": "code",
   "execution_count": 5,
   "metadata": {},
   "outputs": [],
   "source": [
    "# B. front_x\n",
    "# Given a list of strings, return a list with the strings\n",
    "# in sorted order, except group all the strings that begin with 'x' first.\n",
    "# e.g. ['mix', 'xyz', 'apple', 'xanadu', 'aardvark'] yields\n",
    "# ['xanadu', 'xyz', 'aardvark', 'apple', 'mix']\n",
    "# Hint: this can be done by making 2 lists and sorting each of them\n",
    "# before combining them.\n",
    "def front_x(words):\n",
    "    myList = []\n",
    "    myListForx = []\n",
    "    words.sort()\n",
    "    for x in words:\n",
    "        if x[0] == 'x':\n",
    "            myListForx.append(x)\n",
    "            myListForx.sort()\n",
    "        else:\n",
    "            myList.append(x)\n",
    "    finalList = myListForx + myList\n",
    "    return finalList\n",
    "\n",
    "\n"
   ]
  },
  {
   "cell_type": "code",
   "execution_count": 6,
   "metadata": {},
   "outputs": [
    {
     "data": {
      "text/plain": [
       "[(2, 2), (1, 3), (3, 4, 5), (1, 7)]"
      ]
     },
     "execution_count": 6,
     "metadata": {},
     "output_type": "execute_result"
    }
   ],
   "source": [
    "# C. sort_last\n",
    "# Given a list of non-empty tuples, return a list sorted in increasing\n",
    "# order by the last element in each tuple.\n",
    "# e.g. [(1, 7), (1, 3), (3, 4, 5), (2, 2)] yields\n",
    "# [(2, 2), (1, 3), (3, 4, 5), (1, 7)]\n",
    "# Hint: use a custom key= function to extract the last element form each tuple.\n",
    "def lastelement(x):\n",
    "    return x[-1]\n",
    "def sort_last(tuples):\n",
    "    return sorted(tuples, key=lastelement)\n",
    "myList1 = [(1, 7), (1, 3), (3, 4, 5), (2, 2)]\n",
    "sort_last(myList1)"
   ]
  },
  {
   "cell_type": "code",
   "execution_count": 7,
   "metadata": {},
   "outputs": [],
   "source": [
    "# Simple provided test() function used in main() to print\n",
    "# what each function returns vs. what it's supposed to return.\n",
    "def test(got, expected):\n",
    "    if got == expected:\n",
    "        prefix = ' OK '\n",
    "    else:\n",
    "        prefix = '  X '\n",
    "    print( '%s got: %s expected: %s' % (prefix, repr(got), repr(expected)))\n",
    "\n"
   ]
  },
  {
   "cell_type": "code",
   "execution_count": 8,
   "metadata": {},
   "outputs": [
    {
     "name": "stdout",
     "output_type": "stream",
     "text": [
      "match_ends\n",
      " OK  got: 3 expected: 3\n",
      " OK  got: 2 expected: 2\n",
      " OK  got: 1 expected: 1\n",
      "front_x\n",
      " OK  got: ['xaa', 'xzz', 'axx', 'bbb', 'ccc'] expected: ['xaa', 'xzz', 'axx', 'bbb', 'ccc']\n",
      " OK  got: ['xaa', 'xcc', 'aaa', 'bbb', 'ccc'] expected: ['xaa', 'xcc', 'aaa', 'bbb', 'ccc']\n",
      " OK  got: ['xanadu', 'xyz', 'aardvark', 'apple', 'mix'] expected: ['xanadu', 'xyz', 'aardvark', 'apple', 'mix']\n",
      "sort_last\n",
      " OK  got: [(2, 1), (3, 2), (1, 3)] expected: [(2, 1), (3, 2), (1, 3)]\n",
      " OK  got: [(3, 1), (1, 2), (2, 3)] expected: [(3, 1), (1, 2), (2, 3)]\n",
      " OK  got: [(2, 2), (1, 3), (3, 4, 5), (1, 7)] expected: [(2, 2), (1, 3), (3, 4, 5), (1, 7)]\n"
     ]
    }
   ],
   "source": [
    "# Calls the above functions with interesting inputs.\n",
    "\n",
    "print('match_ends')\n",
    "test(match_ends(['aba', 'xyz', 'aa', 'x', 'bbb']), 3)\n",
    "test(match_ends(['', 'x', 'xy', 'xyx', 'xx']), 2)\n",
    "test(match_ends(['aaa', 'be', 'abc', 'hello']), 1)\n",
    "\n",
    "print\n",
    "print ('front_x')\n",
    "test(front_x(['bbb', 'ccc', 'axx', 'xzz', 'xaa']),\n",
    "     ['xaa', 'xzz', 'axx', 'bbb', 'ccc'])\n",
    "test(front_x(['ccc', 'bbb', 'aaa', 'xcc', 'xaa']),\n",
    "     ['xaa', 'xcc', 'aaa', 'bbb', 'ccc'])\n",
    "test(front_x(['mix', 'xyz', 'apple', 'xanadu', 'aardvark']),\n",
    "     ['xanadu', 'xyz', 'aardvark', 'apple', 'mix'])\n",
    "\n",
    "     \n",
    "print\n",
    "print ('sort_last')\n",
    "test(sort_last([(1, 3), (3, 2), (2, 1)]),\n",
    "     [(2, 1), (3, 2), (1, 3)])\n",
    "test(sort_last([(2, 3), (1, 2), (3, 1)]),\n",
    "     [(3, 1), (1, 2), (2, 3)])\n",
    "test(sort_last([(1, 7), (1, 3), (3, 4, 5), (2, 2)]),\n",
    "     [(2, 2), (1, 3), (3, 4, 5), (1, 7)])"
   ]
  },
  {
   "cell_type": "code",
   "execution_count": null,
   "metadata": {},
   "outputs": [],
   "source": []
  }
 ],
 "metadata": {
  "kernelspec": {
   "display_name": "Python 3",
   "language": "python",
   "name": "python3"
  },
  "language_info": {
   "codemirror_mode": {
    "name": "ipython",
    "version": 3
   },
   "file_extension": ".py",
   "mimetype": "text/x-python",
   "name": "python",
   "nbconvert_exporter": "python",
   "pygments_lexer": "ipython3",
   "version": "3.7.4"
  }
 },
 "nbformat": 4,
 "nbformat_minor": 1
}
