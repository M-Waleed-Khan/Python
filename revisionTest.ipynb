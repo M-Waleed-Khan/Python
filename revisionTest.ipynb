{
 "cells": [
  {
   "cell_type": "code",
   "execution_count": 26,
   "metadata": {},
   "outputs": [
    {
     "name": "stdout",
     "output_type": "stream",
     "text": [
      "Enter your grades: 190\n",
      "A\n"
     ]
    }
   ],
   "source": [
    "grades =  input(\"Enter your grades: \")\n",
    "if (int(grades) >= 90):\n",
    "    print(\"A\")\n",
    "elif (int(grades) >= 80):\n",
    "    print(\"B\")\n",
    "elif (int(grades) >= 70):\n",
    "    print(\"C\")\n",
    "elif (int(grades) >= 60):\n",
    "    print(\"D\")\n",
    "elif (int(grades) <= 60):\n",
    "    print(\"E\")"
   ]
  },
  {
   "cell_type": "code",
   "execution_count": 8,
   "metadata": {},
   "outputs": [
    {
     "name": "stdout",
     "output_type": "stream",
     "text": [
      "enter number of days DVD rented: 2\n",
      "enter current time: 9\n"
     ]
    },
    {
     "ename": "TypeError",
     "evalue": "can't multiply sequence by non-int of type 'float'",
     "output_type": "error",
     "traceback": [
      "\u001b[1;31m---------------------------------------------------------------------------\u001b[0m",
      "\u001b[1;31mTypeError\u001b[0m                                 Traceback (most recent call last)",
      "\u001b[1;32m<ipython-input-8-aa0eacb0222f>\u001b[0m in \u001b[0;36m<module>\u001b[1;34m\u001b[0m\n\u001b[0;32m      2\u001b[0m \u001b[0mtime\u001b[0m \u001b[1;33m=\u001b[0m \u001b[0minput\u001b[0m\u001b[1;33m(\u001b[0m\u001b[1;34m\"enter current time: \"\u001b[0m\u001b[1;33m)\u001b[0m\u001b[1;33m\u001b[0m\u001b[1;33m\u001b[0m\u001b[0m\n\u001b[0;32m      3\u001b[0m \u001b[1;32mif\u001b[0m\u001b[1;33m(\u001b[0m\u001b[0mint\u001b[0m\u001b[1;33m(\u001b[0m\u001b[0mtime\u001b[0m\u001b[1;33m)\u001b[0m \u001b[1;33m>\u001b[0m \u001b[1;36m8\u001b[0m\u001b[1;33m)\u001b[0m\u001b[1;33m:\u001b[0m\u001b[1;33m\u001b[0m\u001b[1;33m\u001b[0m\u001b[0m\n\u001b[1;32m----> 4\u001b[1;33m     \u001b[0mcost\u001b[0m \u001b[1;33m=\u001b[0m \u001b[1;33m(\u001b[0m\u001b[0mdays\u001b[0m\u001b[1;33m)\u001b[0m \u001b[1;33m*\u001b[0m \u001b[1;36m1.59\u001b[0m\u001b[1;33m\u001b[0m\u001b[1;33m\u001b[0m\u001b[0m\n\u001b[0m\u001b[0;32m      5\u001b[0m     \u001b[0mprint\u001b[0m\u001b[1;33m(\u001b[0m\u001b[0mstr\u001b[0m\u001b[1;33m(\u001b[0m\u001b[0mcost\u001b[0m\u001b[1;33m)\u001b[0m\u001b[1;33m)\u001b[0m\u001b[1;33m\u001b[0m\u001b[1;33m\u001b[0m\u001b[0m\n",
      "\u001b[1;31mTypeError\u001b[0m: can't multiply sequence by non-int of type 'float'"
     ]
    }
   ],
   "source": [
    "days = input(\"enter number of days DVD rented: \")\n",
    "time = input(\"enter current time: \")\n",
    "if(int(time) > 8):\n",
    "    cost = (days) * 1.59 \n",
    "    print(str(cost))"
   ]
  },
  {
   "cell_type": "code",
   "execution_count": 5,
   "metadata": {},
   "outputs": [],
   "source": [
    "##LIST"
   ]
  },
  {
   "cell_type": "code",
   "execution_count": 6,
   "metadata": {},
   "outputs": [],
   "source": [
    "#UPPER LIMIT IS NOT INCLUDED IN FRUIT[1:5] == FRUIT [-6:-2]\n",
    "\n",
    "##FRUIT[4:-7:1] IS WRONG BC GOING RIGHT TO LEFT AND NEGATIVE INCREMENT\n",
    "##TRHIRD ELEMENT IS FOR INCREMENT\n",
    "##"
   ]
  },
  {
   "cell_type": "code",
   "execution_count": 14,
   "metadata": {},
   "outputs": [
    {
     "name": "stdout",
     "output_type": "stream",
     "text": [
      "2\n",
      "4\n",
      "6\n",
      "8\n",
      "10\n",
      "12\n",
      "14\n",
      "16\n",
      "18\n"
     ]
    }
   ],
   "source": [
    "##UPPER LIMIT IS NOT INCLUDED \n",
    "for i in range(1,10,1):\n",
    "    print(str(i*2))"
   ]
  },
  {
   "cell_type": "code",
   "execution_count": 18,
   "metadata": {},
   "outputs": [
    {
     "name": "stdout",
     "output_type": "stream",
     "text": [
      "0\n",
      "1\n",
      "2\n",
      "3\n",
      "4\n",
      "5\n",
      "6\n"
     ]
    }
   ],
   "source": [
    "numbers = [0,1,2,3,4,5,6,7,8,9]\n",
    "index = 0\n",
    "while(index < 10):\n",
    "    print(numbers[index])\n",
    "    if(numbers[index] == 6):\n",
    "        break\n",
    "    else:\n",
    "        index += 1"
   ]
  },
  {
   "cell_type": "code",
   "execution_count": 19,
   "metadata": {},
   "outputs": [],
   "source": [
    "personData = {\n",
    "    \"name\" : \"waleed\",\n",
    "    \"age\" : 19,\n",
    "    \"job\" : \"dev\",\n",
    "    \"city\" : \"islamabad\",\n",
    "}"
   ]
  },
  {
   "cell_type": "code",
   "execution_count": 20,
   "metadata": {},
   "outputs": [],
   "source": [
    "hobbies = [\"reading\",\"gaming\",\"traveling\"]"
   ]
  },
  {
   "cell_type": "code",
   "execution_count": 22,
   "metadata": {},
   "outputs": [
    {
     "data": {
      "text/plain": [
       "{'name': 'waleed',\n",
       " 'age': 19,\n",
       " 'job': 'dev',\n",
       " 'city': 'islamabad',\n",
       " 'hobbies': ['reading', 'gaming', 'traveling']}"
      ]
     },
     "execution_count": 22,
     "metadata": {},
     "output_type": "execute_result"
    }
   ],
   "source": [
    "#ADDING A LIST IN DICT\n",
    "personData[\"hobbies\"] = hobbies\n",
    "personData"
   ]
  },
  {
   "cell_type": "code",
   "execution_count": 24,
   "metadata": {},
   "outputs": [
    {
     "data": {
      "text/plain": [
       "{'name': 'waleed',\n",
       " 'age': 19,\n",
       " 'job': 'dev',\n",
       " 'city': 'islamabad',\n",
       " 'hobbies': ['reading', 'gaming', 'traveling']}"
      ]
     },
     "execution_count": 24,
     "metadata": {},
     "output_type": "execute_result"
    }
   ],
   "source": [
    "#FAIDA YE HAI K AIK HE COMAND MN MULTIPLE LIST ADD KAR SKTY HN\n",
    "personData.update({\n",
    "    \"hobbies\" : hobbies\n",
    "})\n",
    "personData"
   ]
  },
  {
   "cell_type": "code",
   "execution_count": 30,
   "metadata": {},
   "outputs": [],
   "source": [
    "workExperience = {\n",
    "    \"jobTitle\" : \"Ai Dev\",\n",
    "    \"startDate\" : 2018,\n",
    "    \"endDate\" : 2019\n",
    "}\n",
    "newList = [1,2,3]"
   ]
  },
  {
   "cell_type": "code",
   "execution_count": 33,
   "metadata": {},
   "outputs": [
    {
     "data": {
      "text/plain": [
       "{'name': 'waleed',\n",
       " 'age': 19,\n",
       " 'job': 'dev',\n",
       " 'city': 'islamabad',\n",
       " 'hobbies': ['reading', 'gaming', 'traveling'],\n",
       " 'experience': {'jobTitle': 'Ai Dev', 'startDate': 2018, 'endDate': 2019},\n",
       " 'newList': [1, 2, 3]}"
      ]
     },
     "execution_count": 33,
     "metadata": {},
     "output_type": "execute_result"
    }
   ],
   "source": [
    "personData.update({\n",
    "    \"newList\" : newList,\n",
    "    \"experience\": workExperience\n",
    "})\n",
    "personData"
   ]
  },
  {
   "cell_type": "code",
   "execution_count": 34,
   "metadata": {},
   "outputs": [
    {
     "data": {
      "text/plain": [
       "'waleed'"
      ]
     },
     "execution_count": 34,
     "metadata": {},
     "output_type": "execute_result"
    }
   ],
   "source": [
    "personData[\"name\"]"
   ]
  },
  {
   "cell_type": "code",
   "execution_count": 35,
   "metadata": {},
   "outputs": [
    {
     "data": {
      "text/plain": [
       "{'jobTitle': 'Ai Dev', 'startDate': 2018, 'endDate': 2019}"
      ]
     },
     "execution_count": 35,
     "metadata": {},
     "output_type": "execute_result"
    }
   ],
   "source": [
    "personData[\"experience\"]"
   ]
  },
  {
   "cell_type": "code",
   "execution_count": 39,
   "metadata": {},
   "outputs": [
    {
     "data": {
      "text/plain": [
       "'waleed'"
      ]
     },
     "execution_count": 39,
     "metadata": {},
     "output_type": "execute_result"
    }
   ],
   "source": [
    "personData.get(\"name\",\"not Exists\")"
   ]
  },
  {
   "cell_type": "code",
   "execution_count": 38,
   "metadata": {},
   "outputs": [
    {
     "data": {
      "text/plain": [
       "'not Exists'"
      ]
     },
     "execution_count": 38,
     "metadata": {},
     "output_type": "execute_result"
    }
   ],
   "source": [
    "personData.get(\"sa\",\"not Exists\")"
   ]
  },
  {
   "cell_type": "code",
   "execution_count": 41,
   "metadata": {},
   "outputs": [
    {
     "data": {
      "text/plain": [
       "2018"
      ]
     },
     "execution_count": 41,
     "metadata": {},
     "output_type": "execute_result"
    }
   ],
   "source": [
    "personData[\"experience\"]\n",
    "personData[\"experience\"][\"startDate\"]"
   ]
  },
  {
   "cell_type": "code",
   "execution_count": 43,
   "metadata": {},
   "outputs": [
    {
     "name": "stdout",
     "output_type": "stream",
     "text": [
      "please enter id: 1645\n",
      "please enter name: zain\n",
      "please enter skils: dev web android\n",
      "enter n/N to exit or any other key to Continue: \n",
      "please enter id: 1691\n",
      "please enter name: hasham\n",
      "please enter skils: ali noob gaming\n",
      "enter n/N to exit or any other key to Continue: n\n"
     ]
    },
    {
     "data": {
      "text/plain": [
       "[{'id': '1645', 'name': 'zain', 'skilss': ['dev', 'web', 'android']},\n",
       " {'id': '1691', 'name': 'hasham', 'skilss': ['ali', 'noob', 'gaming']}]"
      ]
     },
     "execution_count": 43,
     "metadata": {},
     "output_type": "execute_result"
    }
   ],
   "source": [
    "#LIST CONTAINING MULTIPLE DICTIONARIES \n",
    "list=[]\n",
    "flag = ''\n",
    "while flag.lower() != 'n':\n",
    "    dict1 = {\n",
    "        \"id\":input(\"please enter id: \"),\n",
    "        \"name\":input(\"please enter name: \"),\n",
    "        \"skilss\":input(\"please enter skils: \").split()\n",
    "    }\n",
    "    list.append(dict1)\n",
    "    flag = input(\"enter n/N to exit or any other key to Continue: \")\n",
    "list"
   ]
  },
  {
   "cell_type": "code",
   "execution_count": 51,
   "metadata": {},
   "outputs": [
    {
     "name": "stdout",
     "output_type": "stream",
     "text": [
      "please enter namewaleed\n",
      "enter math marks: 10\n",
      "enter math marks: 20\n",
      "enter math marks: 30\n",
      "Please enter hobbies seperated by ,: gaming,dev\n",
      "enter n/N to exit or any other key to Continue: n\n"
     ]
    },
    {
     "data": {
      "text/plain": [
       "[{'name': 'waleed',\n",
       "  'marks': {'math': '10', 'english': '20', 'science': '30'},\n",
       "  'hobbies': ['gaming', 'dev']}]"
      ]
     },
     "execution_count": 51,
     "metadata": {},
     "output_type": "execute_result"
    }
   ],
   "source": [
    "task_list = []\n",
    "flag = ''\n",
    "while flag != 'n':\n",
    "    task_dict = {\n",
    "         \"name\" : input(\"please enter name\"),\n",
    "         \"marks\" : {\n",
    "              \"math\":input(\"enter math marks: \"),\n",
    "              \"english\":input(\"enter math marks: \"),\n",
    "              \"science\":input(\"enter math marks: \")\n",
    "         },\n",
    "         \"hobbies\" : input(\"Please enter hobbies seperated by ,: \").split(\",\")\n",
    "    }\n",
    "    task_list.append(task_dict)\n",
    "    flag = input(\"enter n/N to exit or any other key to Continue: \" )\n",
    "task_list"
   ]
  },
  {
   "cell_type": "code",
   "execution_count": null,
   "metadata": {},
   "outputs": [],
   "source": []
  }
 ],
 "metadata": {
  "kernelspec": {
   "display_name": "Python 3",
   "language": "python",
   "name": "python3"
  },
  "language_info": {
   "codemirror_mode": {
    "name": "ipython",
    "version": 3
   },
   "file_extension": ".py",
   "mimetype": "text/x-python",
   "name": "python",
   "nbconvert_exporter": "python",
   "pygments_lexer": "ipython3",
   "version": "3.7.4"
  }
 },
 "nbformat": 4,
 "nbformat_minor": 2
}
